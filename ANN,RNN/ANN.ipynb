{
 "cells": [
  {
   "cell_type": "code",
   "execution_count": 1,
   "id": "1e41e6f2",
   "metadata": {},
   "outputs": [
    {
     "name": "stderr",
     "output_type": "stream",
     "text": [
      "<ipython-input-1-a0030765309d>:4: FutureWarning: The pandas.datetime class is deprecated and will be removed from pandas in a future version. Import from datetime module instead.\n",
      "  from pandas import datetime\n"
     ]
    }
   ],
   "source": [
    "import numpy as np\n",
    "import matplotlib.pyplot as plt\n",
    "import pandas as pd\n",
    "from pandas import datetime\n",
    "import math\n",
    "from math import sqrt\n",
    "from keras.models import Sequential\n",
    "from keras.layers.core import Dense, Dropout, Activation"
   ]
  },
  {
   "cell_type": "code",
   "execution_count": 2,
   "id": "8710b459",
   "metadata": {},
   "outputs": [],
   "source": [
    "# For reading stock data from yahoo\n",
    "from __future__ import division\n",
    "from pandas_datareader import DataReader\n",
    "#import fix_yahoo_finance as yf\n",
    "\n",
    "# For time stamps\n",
    "from datetime import datetime"
   ]
  },
  {
   "cell_type": "code",
   "execution_count": 3,
   "id": "73a02514",
   "metadata": {},
   "outputs": [],
   "source": [
    "# List of Tech_stocks for analytics\n",
    "tech_list = ['AAPL','AMZN','FB','GOOG','NFLX','TSLA']\n",
    "\n",
    "# set up Start and End time for data grab\n",
    "end = datetime.now()\n",
    "start = datetime(end.year-1,end.month,end.day)\n",
    "\n",
    "#For-loop for grabing Yahoo finance data and setting as a dataframe\n",
    "# Set DataFrame as the Stock Ticker\n",
    "\n",
    "for stock in tech_list:\n",
    "    globals()[stock] = DataReader(stock,'yahoo',start,end)\n"
   ]
  },
  {
   "cell_type": "code",
   "execution_count": 13,
   "id": "af5f13ed",
   "metadata": {},
   "outputs": [
    {
     "data": {
      "text/html": [
       "<div>\n",
       "<style scoped>\n",
       "    .dataframe tbody tr th:only-of-type {\n",
       "        vertical-align: middle;\n",
       "    }\n",
       "\n",
       "    .dataframe tbody tr th {\n",
       "        vertical-align: top;\n",
       "    }\n",
       "\n",
       "    .dataframe thead th {\n",
       "        text-align: right;\n",
       "    }\n",
       "</style>\n",
       "<table border=\"1\" class=\"dataframe\">\n",
       "  <thead>\n",
       "    <tr style=\"text-align: right;\">\n",
       "      <th></th>\n",
       "      <th>High</th>\n",
       "      <th>Low</th>\n",
       "      <th>Open</th>\n",
       "      <th>Close</th>\n",
       "      <th>Volume</th>\n",
       "      <th>Adj Close</th>\n",
       "    </tr>\n",
       "    <tr>\n",
       "      <th>Date</th>\n",
       "      <th></th>\n",
       "      <th></th>\n",
       "      <th></th>\n",
       "      <th></th>\n",
       "      <th></th>\n",
       "      <th></th>\n",
       "    </tr>\n",
       "  </thead>\n",
       "  <tbody>\n",
       "    <tr>\n",
       "      <th>2020-05-11</th>\n",
       "      <td>0.792625</td>\n",
       "      <td>76.809998</td>\n",
       "      <td>0.770250</td>\n",
       "      <td>0.787525</td>\n",
       "      <td>1.459464e+10</td>\n",
       "      <td>78.225410</td>\n",
       "    </tr>\n",
       "    <tr>\n",
       "      <th>2020-05-12</th>\n",
       "      <td>0.799225</td>\n",
       "      <td>77.727501</td>\n",
       "      <td>0.794575</td>\n",
       "      <td>0.778525</td>\n",
       "      <td>1.623012e+10</td>\n",
       "      <td>77.331436</td>\n",
       "    </tr>\n",
       "    <tr>\n",
       "      <th>2020-05-13</th>\n",
       "      <td>0.789875</td>\n",
       "      <td>75.802498</td>\n",
       "      <td>0.780375</td>\n",
       "      <td>0.769125</td>\n",
       "      <td>2.006224e+10</td>\n",
       "      <td>76.397720</td>\n",
       "    </tr>\n",
       "    <tr>\n",
       "      <th>2020-05-14</th>\n",
       "      <td>0.774475</td>\n",
       "      <td>75.382500</td>\n",
       "      <td>0.761275</td>\n",
       "      <td>0.773850</td>\n",
       "      <td>1.589292e+10</td>\n",
       "      <td>76.867065</td>\n",
       "    </tr>\n",
       "    <tr>\n",
       "      <th>2020-05-15</th>\n",
       "      <td>0.769750</td>\n",
       "      <td>75.052498</td>\n",
       "      <td>0.750875</td>\n",
       "      <td>0.769275</td>\n",
       "      <td>1.663484e+10</td>\n",
       "      <td>76.412621</td>\n",
       "    </tr>\n",
       "  </tbody>\n",
       "</table>\n",
       "</div>"
      ],
      "text/plain": [
       "                High        Low      Open     Close        Volume  Adj Close\n",
       "Date                                                                        \n",
       "2020-05-11  0.792625  76.809998  0.770250  0.787525  1.459464e+10  78.225410\n",
       "2020-05-12  0.799225  77.727501  0.794575  0.778525  1.623012e+10  77.331436\n",
       "2020-05-13  0.789875  75.802498  0.780375  0.769125  2.006224e+10  76.397720\n",
       "2020-05-14  0.774475  75.382500  0.761275  0.773850  1.589292e+10  76.867065\n",
       "2020-05-15  0.769750  75.052498  0.750875  0.769275  1.663484e+10  76.412621"
      ]
     },
     "execution_count": 13,
     "metadata": {},
     "output_type": "execute_result"
    }
   ],
   "source": [
    "df=AAPL\n",
    "df.head()"
   ]
  },
  {
   "cell_type": "code",
   "execution_count": 14,
   "id": "9c4cfa4f",
   "metadata": {},
   "outputs": [
    {
     "name": "stdout",
     "output_type": "stream",
     "text": [
      "                High         Low      Open     Close        Volume   Adj Close\n",
      "Date                                                                          \n",
      "2020-05-11  0.007926   76.809998  0.007703  0.007875  1.459464e+12   78.225410\n",
      "2020-05-12  0.007992   77.727501  0.007946  0.007785  1.623012e+12   77.331436\n",
      "2020-05-13  0.007899   75.802498  0.007804  0.007691  2.006224e+12   76.397720\n",
      "2020-05-14  0.007745   75.382500  0.007613  0.007739  1.589292e+12   76.867065\n",
      "2020-05-15  0.007697   75.052498  0.007509  0.007693  1.663484e+12   76.412621\n",
      "...              ...         ...       ...       ...           ...         ...\n",
      "2021-05-03  0.013407  131.830002  0.013204  0.013254  7.513510e+11  132.315247\n",
      "2021-05-04  0.013149  126.699997  0.013119  0.012785  1.375647e+12  127.633202\n",
      "2021-05-05  0.013045  127.970001  0.012920  0.012810  8.400090e+11  127.882790\n",
      "2021-05-06  0.012975  127.129997  0.012789  0.012974  7.812830e+11  129.520004\n",
      "2021-05-07  0.013126  129.479996  0.013085  0.013021  7.889270e+11  130.210007\n",
      "\n",
      "[251 rows x 6 columns]\n"
     ]
    }
   ],
   "source": [
    "df['Open'] = df['Open']/100\n",
    "df['High'] = df['High']/100\n",
    "df['Volume'] = df['Volume']*100\n",
    "df['Close'] = df['Close']/100\n",
    "print(df)\n",
    "nan_value_index = []\n",
    "High = df.High.isnull()\n",
    "for i in range(0, len(High)):\n",
    "    if High[i] == 1:\n",
    "        nan_value_index.append(i)\n",
    "        df['High'][i] = 0\n",
    "Open = df.Open.isnull()\n",
    "for i in range(0, len(Open)):\n",
    "    if Open[i] == 1:\n",
    "        nan_value_index.append(i)\n",
    "        df['Open'][i] = 0\n",
    "Volume = df.Volume.isnull()\n",
    "for i in range(0, len(Volume)):\n",
    "    if Volume[i] == 1:\n",
    "        nan_value_index.append(i)\n",
    "        df['Volume'][i] = 0\n",
    "Close = df.Close.isnull()\n",
    "for i in range(0, len(Close)):\n",
    "    if Close[i] == 1:\n",
    "        nan_value_index.append(i)\n",
    "        df['Close'][i] = 0"
   ]
  },
  {
   "cell_type": "code",
   "execution_count": 15,
   "id": "061e169d",
   "metadata": {},
   "outputs": [],
   "source": [
    "X = df[['High','Open', 'Volume']]\n",
    "Y = df[['Close']]\n",
    "factor = 0.80\n",
    "length = X.shape[0]\n",
    "total_for_train = int(length*factor)\n",
    "X_train = X[:total_for_train]\n",
    "Y_train = Y[:total_for_train]\n",
    "X_test = X[total_for_train:]\n",
    "Y_test = Y[total_for_train:]"
   ]
  },
  {
   "cell_type": "code",
   "execution_count": 16,
   "id": "9d3508f1",
   "metadata": {},
   "outputs": [
    {
     "name": "stdout",
     "output_type": "stream",
     "text": [
      "X_train (200, 3)\n",
      "y_train (200, 1)\n",
      "X_test (51, 3)\n",
      "y_test (51, 1)\n"
     ]
    }
   ],
   "source": [
    "print(\"X_train\", X_train.shape)\n",
    "print(\"y_train\", Y_train.shape)\n",
    "print(\"X_test\", X_test.shape)\n",
    "print(\"y_test\", Y_test.shape)"
   ]
  },
  {
   "cell_type": "markdown",
   "id": "b6636cef",
   "metadata": {},
   "source": [
    "# Compiling and training the neural network model"
   ]
  },
  {
   "cell_type": "code",
   "execution_count": 17,
   "id": "31fa437a",
   "metadata": {},
   "outputs": [
    {
     "name": "stdout",
     "output_type": "stream",
     "text": [
      "Epoch 1/10\n",
      "2/2 [==============================] - 0s 108ms/step - loss: 9795991473487872.0000 - val_loss: 3593431632838656.0000\n",
      "Epoch 2/10\n",
      "2/2 [==============================] - 0s 22ms/step - loss: 6621458738446336.0000 - val_loss: 628968783872.0000\n",
      "Epoch 3/10\n",
      "2/2 [==============================] - 0s 17ms/step - loss: 807118106001408.0000 - val_loss: 1772982498230272.0000\n",
      "Epoch 4/10\n",
      "2/2 [==============================] - 0s 23ms/step - loss: 3762920169144320.0000 - val_loss: 298540022628352.0000\n",
      "Epoch 5/10\n",
      "2/2 [==============================] - 0s 16ms/step - loss: 472372448591872.0000 - val_loss: 464418303377408.0000\n",
      "Epoch 6/10\n",
      "2/2 [==============================] - 0s 20ms/step - loss: 1405113449054208.0000 - val_loss: 784210965037056.0000\n",
      "Epoch 7/10\n",
      "2/2 [==============================] - 0s 18ms/step - loss: 1502870125936640.0000 - val_loss: 16628307722240.0000\n",
      "Epoch 8/10\n",
      "2/2 [==============================] - 0s 21ms/step - loss: 98566471155712.0000 - val_loss: 349198121697280.0000\n",
      "Epoch 9/10\n",
      "2/2 [==============================] - 0s 31ms/step - loss: 889472694616064.0000 - val_loss: 339736577179648.0000\n",
      "Epoch 10/10\n",
      "2/2 [==============================] - 0s 18ms/step - loss: 613519904997376.0000 - val_loss: 1064042889216.0000\n"
     ]
    },
    {
     "data": {
      "text/plain": [
       "<tensorflow.python.keras.callbacks.History at 0x211710769a0>"
      ]
     },
     "execution_count": 17,
     "metadata": {},
     "output_type": "execute_result"
    }
   ],
   "source": [
    "classifier = Sequential()\n",
    "classifier.add(Dense(units = 32, kernel_initializer = 'uniform', activation = 'relu', input_dim = 3))\n",
    "classifier.add(Dense(units = 10, kernel_initializer = 'uniform', activation = 'relu'))\n",
    "classifier.add(Dense(units = 1, kernel_initializer = 'uniform', activation = 'linear'))\n",
    "classifier.compile(optimizer = 'adam', loss = 'mean_squared_error', metrics = [])\n",
    "classifier.fit(X_train, Y_train, batch_size = 128, epochs = 10, validation_split=0.05)"
   ]
  },
  {
   "cell_type": "markdown",
   "id": "326a72e3",
   "metadata": {},
   "source": [
    "\n",
    "# Predicted Values"
   ]
  },
  {
   "cell_type": "code",
   "execution_count": 18,
   "id": "f019aa33",
   "metadata": {},
   "outputs": [
    {
     "name": "stdout",
     "output_type": "stream",
     "text": [
      "[[-1573305.5]\n",
      " [-1747003. ]\n",
      " [-1234732. ]\n",
      " [-1085635. ]\n",
      " [-1199263. ]\n",
      " [-1891320. ]\n",
      " [-1632452.5]\n",
      " [-1638896.5]\n",
      " [-1375076.5]\n",
      " [-1188443. ]]\n"
     ]
    }
   ],
   "source": [
    "predictions = classifier.predict(X_test)\n",
    "print(predictions[:10])"
   ]
  },
  {
   "cell_type": "markdown",
   "id": "bab4a270",
   "metadata": {},
   "source": [
    "# Calculating the error in the trained Neural Network model"
   ]
  },
  {
   "cell_type": "code",
   "execution_count": 19,
   "id": "adb77ac8",
   "metadata": {},
   "outputs": [
    {
     "name": "stdout",
     "output_type": "stream",
     "text": [
      "Train Score: 2430362714112.00 MSE (1558962.06 RMSE)\n",
      "Test Score: 1310483415040.00 MSE (1144763.48 RMSE)\n"
     ]
    }
   ],
   "source": [
    "trainScore = classifier.evaluate(X_train, Y_train, verbose=0)\n",
    "print('Train Score: %.2f MSE (%.2f RMSE)' % (trainScore, math.sqrt(trainScore)))\n",
    "testScore = classifier.evaluate(X_test, Y_test, verbose=0)\n",
    "print('Test Score: %.2f MSE (%.2f RMSE)' % (testScore, math.sqrt(testScore)))"
   ]
  },
  {
   "cell_type": "markdown",
   "id": "5a624398",
   "metadata": {},
   "source": [
    "# Predictions vs Real results"
   ]
  },
  {
   "cell_type": "code",
   "execution_count": 20,
   "id": "86556551",
   "metadata": {},
   "outputs": [
    {
     "data": {
      "image/png": "[encoded data removed]",
      "text/plain": [
       "<Figure size 432x288 with 1 Axes>"
      ]
     },
     "metadata": {
      "needs_background": "light"
     },
     "output_type": "display_data"
    },
    {
     "data": {
      "image/png": "[encoded data removed]",
      "text/plain": [
       "<Figure size 432x288 with 1 Axes>"
      ]
     },
     "metadata": {
      "needs_background": "light"
     },
     "output_type": "display_data"
    }
   ],
   "source": [
    "import matplotlib.pyplot as plt\n",
    "plt.plot(predictions,color='red', label='Predictions from the trained model')\n",
    "plt.legend(loc='upper left')\n",
    "plt.show()\n",
    "plt.plot(Y_test,color='blue', label='Read values for the stock')\n",
    "plt.legend(loc='upper left')\n",
    "plt.show()"
   ]
  },
  {
   "cell_type": "code",
   "execution_count": 21,
   "id": "75e59890",
   "metadata": {},
   "outputs": [
    {
     "data": {
      "text/html": [
       "<div>\n",
       "<style scoped>\n",
       "    .dataframe tbody tr th:only-of-type {\n",
       "        vertical-align: middle;\n",
       "    }\n",
       "\n",
       "    .dataframe tbody tr th {\n",
       "        vertical-align: top;\n",
       "    }\n",
       "\n",
       "    .dataframe thead th {\n",
       "        text-align: right;\n",
       "    }\n",
       "</style>\n",
       "<table border=\"1\" class=\"dataframe\">\n",
       "  <thead>\n",
       "    <tr style=\"text-align: right;\">\n",
       "      <th></th>\n",
       "      <th>High</th>\n",
       "      <th>Low</th>\n",
       "      <th>Open</th>\n",
       "      <th>Close</th>\n",
       "      <th>Volume</th>\n",
       "      <th>Adj Close</th>\n",
       "    </tr>\n",
       "    <tr>\n",
       "      <th>Date</th>\n",
       "      <th></th>\n",
       "      <th></th>\n",
       "      <th></th>\n",
       "      <th></th>\n",
       "      <th></th>\n",
       "      <th></th>\n",
       "    </tr>\n",
       "  </thead>\n",
       "  <tbody>\n",
       "    <tr>\n",
       "      <th>2020-05-11</th>\n",
       "      <td>2419.669922</td>\n",
       "      <td>2372.110107</td>\n",
       "      <td>2374.699951</td>\n",
       "      <td>2409.000000</td>\n",
       "      <td>3259200</td>\n",
       "      <td>2409.000000</td>\n",
       "    </tr>\n",
       "    <tr>\n",
       "      <th>2020-05-12</th>\n",
       "      <td>2419.000000</td>\n",
       "      <td>2355.000000</td>\n",
       "      <td>2411.850098</td>\n",
       "      <td>2356.949951</td>\n",
       "      <td>3074900</td>\n",
       "      <td>2356.949951</td>\n",
       "    </tr>\n",
       "    <tr>\n",
       "      <th>2020-05-13</th>\n",
       "      <td>2407.699951</td>\n",
       "      <td>2337.800049</td>\n",
       "      <td>2366.800049</td>\n",
       "      <td>2367.919922</td>\n",
       "      <td>4782900</td>\n",
       "      <td>2367.919922</td>\n",
       "    </tr>\n",
       "    <tr>\n",
       "      <th>2020-05-14</th>\n",
       "      <td>2391.370117</td>\n",
       "      <td>2353.209961</td>\n",
       "      <td>2361.010010</td>\n",
       "      <td>2388.850098</td>\n",
       "      <td>3648100</td>\n",
       "      <td>2388.850098</td>\n",
       "    </tr>\n",
       "    <tr>\n",
       "      <th>2020-05-15</th>\n",
       "      <td>2411.000000</td>\n",
       "      <td>2356.370117</td>\n",
       "      <td>2368.520020</td>\n",
       "      <td>2409.780029</td>\n",
       "      <td>4235000</td>\n",
       "      <td>2409.780029</td>\n",
       "    </tr>\n",
       "  </tbody>\n",
       "</table>\n",
       "</div>"
      ],
      "text/plain": [
       "                   High          Low         Open        Close   Volume  \\\n",
       "Date                                                                      \n",
       "2020-05-11  2419.669922  2372.110107  2374.699951  2409.000000  3259200   \n",
       "2020-05-12  2419.000000  2355.000000  2411.850098  2356.949951  3074900   \n",
       "2020-05-13  2407.699951  2337.800049  2366.800049  2367.919922  4782900   \n",
       "2020-05-14  2391.370117  2353.209961  2361.010010  2388.850098  3648100   \n",
       "2020-05-15  2411.000000  2356.370117  2368.520020  2409.780029  4235000   \n",
       "\n",
       "              Adj Close  \n",
       "Date                     \n",
       "2020-05-11  2409.000000  \n",
       "2020-05-12  2356.949951  \n",
       "2020-05-13  2367.919922  \n",
       "2020-05-14  2388.850098  \n",
       "2020-05-15  2409.780029  "
      ]
     },
     "execution_count": 21,
     "metadata": {},
     "output_type": "execute_result"
    }
   ],
   "source": [
    "df=AMZN\n",
    "df.head()"
   ]
  },
  {
   "cell_type": "code",
   "execution_count": 22,
   "id": "3112750d",
   "metadata": {},
   "outputs": [
    {
     "name": "stdout",
     "output_type": "stream",
     "text": [
      "                 High          Low       Open      Close     Volume  \\\n",
      "Date                                                                  \n",
      "2020-05-11  24.196699  2372.110107  23.747000  24.090000  325920000   \n",
      "2020-05-12  24.190000  2355.000000  24.118501  23.569500  307490000   \n",
      "2020-05-13  24.077000  2337.800049  23.668000  23.679199  478290000   \n",
      "2020-05-14  23.913701  2353.209961  23.610100  23.888501  364810000   \n",
      "2020-05-15  24.110000  2356.370117  23.685200  24.097800  423500000   \n",
      "...               ...          ...        ...        ...        ...   \n",
      "2021-05-03  34.866499  3372.699951  34.847300  33.864900  587550000   \n",
      "2021-05-04  33.679800  3272.129883  33.561899  33.118701  543940000   \n",
      "2021-05-05  33.547000  3264.360107  33.388601  32.705400  371130000   \n",
      "2021-05-06  33.143999  3247.199951  32.700000  33.063701  444770000   \n",
      "2021-05-07  33.308899  3289.070068  33.190901  32.916101  470680000   \n",
      "\n",
      "              Adj Close  \n",
      "Date                     \n",
      "2020-05-11  2409.000000  \n",
      "2020-05-12  2356.949951  \n",
      "2020-05-13  2367.919922  \n",
      "2020-05-14  2388.850098  \n",
      "2020-05-15  2409.780029  \n",
      "...                 ...  \n",
      "2021-05-03  3386.489990  \n",
      "2021-05-04  3311.870117  \n",
      "2021-05-05  3270.540039  \n",
      "2021-05-06  3306.370117  \n",
      "2021-05-07  3291.610107  \n",
      "\n",
      "[251 rows x 6 columns]\n"
     ]
    }
   ],
   "source": [
    "df['Open'] = df['Open']/100\n",
    "df['High'] = df['High']/100\n",
    "df['Volume'] = df['Volume']*100\n",
    "df['Close'] = df['Close']/100\n",
    "print(df)\n",
    "nan_value_index = []\n",
    "High = df.High.isnull()\n",
    "for i in range(0, len(High)):\n",
    "    if High[i] == 1:\n",
    "        nan_value_index.append(i)\n",
    "        df['High'][i] = 0\n",
    "Open = df.Open.isnull()\n",
    "for i in range(0, len(Open)):\n",
    "    if Open[i] == 1:\n",
    "        nan_value_index.append(i)\n",
    "        df['Open'][i] = 0\n",
    "Volume = df.Volume.isnull()\n",
    "for i in range(0, len(Volume)):\n",
    "    if Volume[i] == 1:\n",
    "        nan_value_index.append(i)\n",
    "        df['Volume'][i] = 0\n",
    "Close = df.Close.isnull()\n",
    "for i in range(0, len(Close)):\n",
    "    if Close[i] == 1:\n",
    "        nan_value_index.append(i)\n",
    "        df['Close'][i] = 0"
   ]
  },
  {
   "cell_type": "code",
   "execution_count": 23,
   "id": "81310510",
   "metadata": {},
   "outputs": [],
   "source": [
    "X = df[['High','Open', 'Volume']]\n",
    "Y = df[['Close']]\n",
    "factor = 0.80\n",
    "length = X.shape[0]\n",
    "total_for_train = int(length*factor)\n",
    "X_train = X[:total_for_train]\n",
    "Y_train = Y[:total_for_train]\n",
    "X_test = X[total_for_train:]\n",
    "Y_test = Y[total_for_train:]"
   ]
  },
  {
   "cell_type": "code",
   "execution_count": 24,
   "id": "4bfac815",
   "metadata": {},
   "outputs": [
    {
     "name": "stdout",
     "output_type": "stream",
     "text": [
      "X_train (200, 3)\n",
      "y_train (200, 1)\n",
      "X_test (51, 3)\n",
      "y_test (51, 1)\n"
     ]
    }
   ],
   "source": [
    "print(\"X_train\", X_train.shape)\n",
    "print(\"y_train\", Y_train.shape)\n",
    "print(\"X_test\", X_test.shape)\n",
    "print(\"y_test\", Y_test.shape)"
   ]
  },
  {
   "cell_type": "code",
   "execution_count": 25,
   "id": "3df92469",
   "metadata": {},
   "outputs": [
    {
     "name": "stdout",
     "output_type": "stream",
     "text": [
      "Epoch 1/10\n",
      "2/2 [==============================] - 0s 108ms/step - loss: 6256178176.0000 - val_loss: 83351720.0000\n",
      "Epoch 2/10\n",
      "2/2 [==============================] - 0s 22ms/step - loss: 198169584.0000 - val_loss: 576882176.0000\n",
      "Epoch 3/10\n",
      "2/2 [==============================] - 0s 21ms/step - loss: 1437266432.0000 - val_loss: 966850560.0000\n",
      "Epoch 4/10\n",
      "2/2 [==============================] - 0s 20ms/step - loss: 1857939584.0000 - val_loss: 492398592.0000\n",
      "Epoch 5/10\n",
      "2/2 [==============================] - 0s 18ms/step - loss: 839465792.0000 - val_loss: 56500500.0000\n",
      "Epoch 6/10\n",
      "2/2 [==============================] - 0s 19ms/step - loss: 80193224.0000 - val_loss: 41079020.0000\n",
      "Epoch 7/10\n",
      "2/2 [==============================] - 0s 25ms/step - loss: 154768240.0000 - val_loss: 226385056.0000\n",
      "Epoch 8/10\n",
      "2/2 [==============================] - 0s 25ms/step - loss: 501622848.0000 - val_loss: 275146432.0000\n",
      "Epoch 9/10\n",
      "2/2 [==============================] - 0s 32ms/step - loss: 534981152.0000 - val_loss: 152678096.0000\n",
      "Epoch 10/10\n",
      "2/2 [==============================] - 0s 24ms/step - loss: 267600288.0000 - val_loss: 27437420.0000\n"
     ]
    },
    {
     "data": {
      "text/plain": [
       "<tensorflow.python.keras.callbacks.History at 0x2116f8e4370>"
      ]
     },
     "execution_count": 25,
     "metadata": {},
     "output_type": "execute_result"
    }
   ],
   "source": [
    "classifier = Sequential()\n",
    "classifier.add(Dense(units = 32, kernel_initializer = 'uniform', activation = 'relu', input_dim = 3))\n",
    "classifier.add(Dense(units = 10, kernel_initializer = 'uniform', activation = 'relu'))\n",
    "classifier.add(Dense(units = 1, kernel_initializer = 'uniform', activation = 'linear'))\n",
    "classifier.compile(optimizer = 'adam', loss = 'mean_squared_error', metrics = [])\n",
    "classifier.fit(X_train, Y_train, batch_size = 128, epochs = 10, validation_split=0.05)"
   ]
  },
  {
   "cell_type": "code",
   "execution_count": 26,
   "id": "64d6cb27",
   "metadata": {},
   "outputs": [
    {
     "name": "stdout",
     "output_type": "stream",
     "text": [
      "[[7230.3423]\n",
      " [6815.221 ]\n",
      " [4352.276 ]\n",
      " [4130.444 ]\n",
      " [6326.7485]\n",
      " [8705.354 ]\n",
      " [8585.248 ]\n",
      " [6663.725 ]\n",
      " [6416.53  ]\n",
      " [4798.1626]]\n"
     ]
    }
   ],
   "source": [
    "predictions = classifier.predict(X_test)\n",
    "print(predictions[:10])"
   ]
  },
  {
   "cell_type": "code",
   "execution_count": 27,
   "id": "c5044b21",
   "metadata": {},
   "outputs": [
    {
     "name": "stdout",
     "output_type": "stream",
     "text": [
      "Train Score: 55186616.00 MSE (7428.77 RMSE)\n",
      "Test Score: 37567132.00 MSE (6129.20 RMSE)\n"
     ]
    }
   ],
   "source": [
    "trainScore = classifier.evaluate(X_train, Y_train, verbose=0)\n",
    "print('Train Score: %.2f MSE (%.2f RMSE)' % (trainScore, math.sqrt(trainScore)))\n",
    "testScore = classifier.evaluate(X_test, Y_test, verbose=0)\n",
    "print('Test Score: %.2f MSE (%.2f RMSE)' % (testScore, math.sqrt(testScore)))"
   ]
  },
  {
   "cell_type": "code",
   "execution_count": 28,
   "id": "099c4b66",
   "metadata": {},
   "outputs": [
    {
     "data": {
      "image/png": "[encoded data removed]",
      "text/plain": [
       "<Figure size 432x288 with 1 Axes>"
      ]
     },
     "metadata": {
      "needs_background": "light"
     },
     "output_type": "display_data"
    },
    {
     "data": {
      "image/png": "[encoded data removed]",
      "text/plain": [
       "<Figure size 432x288 with 1 Axes>"
      ]
     },
     "metadata": {
      "needs_background": "light"
     },
     "output_type": "display_data"
    }
   ],
   "source": [
    "import matplotlib.pyplot as plt\n",
    "plt.plot(predictions,color='red', label='Predictions from the trained model')\n",
    "plt.legend(loc='upper left')\n",
    "plt.show()\n",
    "plt.plot(Y_test,color='blue', label='Read values for the stock')\n",
    "plt.legend(loc='upper left')\n",
    "plt.show()"
   ]
  },
  {
   "cell_type": "code",
   "execution_count": 29,
   "id": "337004dc",
   "metadata": {},
   "outputs": [
    {
     "data": {
      "text/html": [
       "<div>\n",
       "<style scoped>\n",
       "    .dataframe tbody tr th:only-of-type {\n",
       "        vertical-align: middle;\n",
       "    }\n",
       "\n",
       "    .dataframe tbody tr th {\n",
       "        vertical-align: top;\n",
       "    }\n",
       "\n",
       "    .dataframe thead th {\n",
       "        text-align: right;\n",
       "    }\n",
       "</style>\n",
       "<table border=\"1\" class=\"dataframe\">\n",
       "  <thead>\n",
       "    <tr style=\"text-align: right;\">\n",
       "      <th></th>\n",
       "      <th>High</th>\n",
       "      <th>Low</th>\n",
       "      <th>Open</th>\n",
       "      <th>Close</th>\n",
       "      <th>Volume</th>\n",
       "      <th>Adj Close</th>\n",
       "    </tr>\n",
       "    <tr>\n",
       "      <th>Date</th>\n",
       "      <th></th>\n",
       "      <th></th>\n",
       "      <th></th>\n",
       "      <th></th>\n",
       "      <th></th>\n",
       "      <th></th>\n",
       "    </tr>\n",
       "  </thead>\n",
       "  <tbody>\n",
       "    <tr>\n",
       "      <th>2020-05-11</th>\n",
       "      <td>215.000000</td>\n",
       "      <td>210.369995</td>\n",
       "      <td>210.889999</td>\n",
       "      <td>213.179993</td>\n",
       "      <td>12911900</td>\n",
       "      <td>213.179993</td>\n",
       "    </tr>\n",
       "    <tr>\n",
       "      <th>2020-05-12</th>\n",
       "      <td>215.279999</td>\n",
       "      <td>210.000000</td>\n",
       "      <td>213.289993</td>\n",
       "      <td>210.100006</td>\n",
       "      <td>14704600</td>\n",
       "      <td>210.100006</td>\n",
       "    </tr>\n",
       "    <tr>\n",
       "      <th>2020-05-13</th>\n",
       "      <td>210.779999</td>\n",
       "      <td>202.110001</td>\n",
       "      <td>209.429993</td>\n",
       "      <td>205.100006</td>\n",
       "      <td>20684600</td>\n",
       "      <td>205.100006</td>\n",
       "    </tr>\n",
       "    <tr>\n",
       "      <th>2020-05-14</th>\n",
       "      <td>206.929993</td>\n",
       "      <td>200.690002</td>\n",
       "      <td>202.559998</td>\n",
       "      <td>206.809998</td>\n",
       "      <td>17178900</td>\n",
       "      <td>206.809998</td>\n",
       "    </tr>\n",
       "    <tr>\n",
       "      <th>2020-05-15</th>\n",
       "      <td>211.339996</td>\n",
       "      <td>204.119995</td>\n",
       "      <td>205.270004</td>\n",
       "      <td>210.880005</td>\n",
       "      <td>19383200</td>\n",
       "      <td>210.880005</td>\n",
       "    </tr>\n",
       "  </tbody>\n",
       "</table>\n",
       "</div>"
      ],
      "text/plain": [
       "                  High         Low        Open       Close    Volume  \\\n",
       "Date                                                                   \n",
       "2020-05-11  215.000000  210.369995  210.889999  213.179993  12911900   \n",
       "2020-05-12  215.279999  210.000000  213.289993  210.100006  14704600   \n",
       "2020-05-13  210.779999  202.110001  209.429993  205.100006  20684600   \n",
       "2020-05-14  206.929993  200.690002  202.559998  206.809998  17178900   \n",
       "2020-05-15  211.339996  204.119995  205.270004  210.880005  19383200   \n",
       "\n",
       "             Adj Close  \n",
       "Date                    \n",
       "2020-05-11  213.179993  \n",
       "2020-05-12  210.100006  \n",
       "2020-05-13  205.100006  \n",
       "2020-05-14  206.809998  \n",
       "2020-05-15  210.880005  "
      ]
     },
     "execution_count": 29,
     "metadata": {},
     "output_type": "execute_result"
    }
   ],
   "source": [
    "df=FB\n",
    "df.head()"
   ]
  },
  {
   "cell_type": "code",
   "execution_count": 30,
   "id": "1467a349",
   "metadata": {},
   "outputs": [
    {
     "name": "stdout",
     "output_type": "stream",
     "text": [
      "              High         Low    Open   Close      Volume   Adj Close\n",
      "Date                                                                  \n",
      "2020-05-11  2.1500  210.369995  2.1089  2.1318  1291190000  213.179993\n",
      "2020-05-12  2.1528  210.000000  2.1329  2.1010  1470460000  210.100006\n",
      "2020-05-13  2.1078  202.110001  2.0943  2.0510  2068460000  205.100006\n",
      "2020-05-14  2.0693  200.690002  2.0256  2.0681  1717890000  206.809998\n",
      "2020-05-15  2.1134  204.119995  2.0527  2.1088  1938320000  210.880005\n",
      "...            ...         ...     ...     ...         ...         ...\n",
      "2021-05-03  3.2855  321.839996  3.2617  3.2258  1871950000  322.579987\n",
      "2021-05-04  3.2219  313.119995  3.2002  3.1836  2403260000  318.359985\n",
      "2021-05-05  3.2106  314.489990  3.1819  3.1502  1557760000  315.019989\n",
      "2021-05-06  3.2024  313.269989  3.1452  3.2002  1901220000  320.019989\n",
      "2021-05-07  3.2294  318.750000  3.2238  3.1908  1591280000  319.079987\n",
      "\n",
      "[251 rows x 6 columns]\n"
     ]
    }
   ],
   "source": [
    "df['Open'] = df['Open']/100\n",
    "df['High'] = df['High']/100\n",
    "df['Volume'] = df['Volume']*100\n",
    "df['Close'] = df['Close']/100\n",
    "print(df)\n",
    "nan_value_index = []\n",
    "High = df.High.isnull()\n",
    "for i in range(0, len(High)):\n",
    "    if High[i] == 1:\n",
    "        nan_value_index.append(i)\n",
    "        df['High'][i] = 0\n",
    "Open = df.Open.isnull()\n",
    "for i in range(0, len(Open)):\n",
    "    if Open[i] == 1:\n",
    "        nan_value_index.append(i)\n",
    "        df['Open'][i] = 0\n",
    "Volume = df.Volume.isnull()\n",
    "for i in range(0, len(Volume)):\n",
    "    if Volume[i] == 1:\n",
    "        nan_value_index.append(i)\n",
    "        df['Volume'][i] = 0\n",
    "Close = df.Close.isnull()\n",
    "for i in range(0, len(Close)):\n",
    "    if Close[i] == 1:\n",
    "        nan_value_index.append(i)\n",
    "        df['Close'][i] = 0"
   ]
  },
  {
   "cell_type": "code",
   "execution_count": 31,
   "id": "2c79238a",
   "metadata": {},
   "outputs": [],
   "source": [
    "X = df[['High','Open', 'Volume']]\n",
    "Y = df[['Close']]\n",
    "factor = 0.80\n",
    "length = X.shape[0]\n",
    "total_for_train = int(length*factor)\n",
    "X_train = X[:total_for_train]\n",
    "Y_train = Y[:total_for_train]\n",
    "X_test = X[total_for_train:]\n",
    "Y_test = Y[total_for_train:]"
   ]
  },
  {
   "cell_type": "code",
   "execution_count": 32,
   "id": "d5f79ba9",
   "metadata": {},
   "outputs": [
    {
     "name": "stdout",
     "output_type": "stream",
     "text": [
      "X_train (200, 3)\n",
      "y_train (200, 1)\n",
      "X_test (51, 3)\n",
      "y_test (51, 1)\n"
     ]
    }
   ],
   "source": [
    "print(\"X_train\", X_train.shape)\n",
    "print(\"y_train\", Y_train.shape)\n",
    "print(\"X_test\", X_test.shape)\n",
    "print(\"y_test\", Y_test.shape)"
   ]
  },
  {
   "cell_type": "code",
   "execution_count": 33,
   "id": "3e0723ee",
   "metadata": {},
   "outputs": [
    {
     "name": "stdout",
     "output_type": "stream",
     "text": [
      "Epoch 1/10\n",
      "2/2 [==============================] - 0s 108ms/step - loss: 847050637312.0000 - val_loss: 168976760832.0000\n",
      "Epoch 2/10\n",
      "2/2 [==============================] - 0s 24ms/step - loss: 319602688000.0000 - val_loss: 59438542848.0000\n",
      "Epoch 3/10\n",
      "2/2 [==============================] - 0s 20ms/step - loss: 121844875264.0000 - val_loss: 29822726144.0000\n",
      "Epoch 4/10\n",
      "2/2 [==============================] - 0s 21ms/step - loss: 58932244480.0000 - val_loss: 13964752896.0000\n",
      "Epoch 5/10\n",
      "2/2 [==============================] - 0s 19ms/step - loss: 27644569600.0000 - val_loss: 5801384960.0000\n",
      "Epoch 6/10\n",
      "2/2 [==============================] - 0s 20ms/step - loss: 10962568192.0000 - val_loss: 2337321728.0000\n",
      "Epoch 7/10\n",
      "2/2 [==============================] - 0s 23ms/step - loss: 4542238208.0000 - val_loss: 690767040.0000\n",
      "Epoch 8/10\n",
      "2/2 [==============================] - 0s 22ms/step - loss: 1258662656.0000 - val_loss: 80690320.0000\n",
      "Epoch 9/10\n",
      "2/2 [==============================] - 0s 22ms/step - loss: 125463832.0000 - val_loss: 7.1249\n",
      "Epoch 10/10\n",
      "2/2 [==============================] - 0s 22ms/step - loss: 6.6635 - val_loss: 7.1213\n"
     ]
    },
    {
     "data": {
      "text/plain": [
       "<tensorflow.python.keras.callbacks.History at 0x2117189d4c0>"
      ]
     },
     "execution_count": 33,
     "metadata": {},
     "output_type": "execute_result"
    }
   ],
   "source": [
    "classifier = Sequential()\n",
    "classifier.add(Dense(units = 32, kernel_initializer = 'uniform', activation = 'relu', input_dim = 3))\n",
    "classifier.add(Dense(units = 10, kernel_initializer = 'uniform', activation = 'relu'))\n",
    "classifier.add(Dense(units = 1, kernel_initializer = 'uniform', activation = 'linear'))\n",
    "classifier.compile(optimizer = 'adam', loss = 'mean_squared_error', metrics = [])\n",
    "classifier.fit(X_train, Y_train, batch_size = 128, epochs = 10, validation_split=0.05)"
   ]
  },
  {
   "cell_type": "code",
   "execution_count": 34,
   "id": "ee82bf57",
   "metadata": {},
   "outputs": [
    {
     "name": "stdout",
     "output_type": "stream",
     "text": [
      "[[0.01358068]\n",
      " [0.01358068]\n",
      " [0.01358068]\n",
      " [0.01358068]\n",
      " [0.01358068]\n",
      " [0.01358068]\n",
      " [0.01358068]\n",
      " [0.01358068]\n",
      " [0.01358068]\n",
      " [0.01358068]]\n"
     ]
    }
   ],
   "source": [
    "predictions = classifier.predict(X_test)\n",
    "print(predictions[:10])"
   ]
  },
  {
   "cell_type": "code",
   "execution_count": 35,
   "id": "ec3d60d5",
   "metadata": {},
   "outputs": [
    {
     "name": "stdout",
     "output_type": "stream",
     "text": [
      "Train Score: 6.68 MSE (2.59 RMSE)\n",
      "Test Score: 8.51 MSE (2.92 RMSE)\n"
     ]
    }
   ],
   "source": [
    "trainScore = classifier.evaluate(X_train, Y_train, verbose=0)\n",
    "print('Train Score: %.2f MSE (%.2f RMSE)' % (trainScore, math.sqrt(trainScore)))\n",
    "testScore = classifier.evaluate(X_test, Y_test, verbose=0)\n",
    "print('Test Score: %.2f MSE (%.2f RMSE)' % (testScore, math.sqrt(testScore)))"
   ]
  },
  {
   "cell_type": "code",
   "execution_count": 37,
   "id": "b4f7a0e3",
   "metadata": {},
   "outputs": [
    {
     "data": {
      "image/png": "[encoded data removed]",
      "text/plain": [
       "<Figure size 432x288 with 1 Axes>"
      ]
     },
     "metadata": {
      "needs_background": "light"
     },
     "output_type": "display_data"
    },
    {
     "data": {
      "image/png": "[encoded data removed]",
      "text/plain": [
       "<Figure size 432x288 with 1 Axes>"
      ]
     },
     "metadata": {
      "needs_background": "light"
     },
     "output_type": "display_data"
    }
   ],
   "source": [
    "import matplotlib.pyplot as plt\n",
    "plt.plot(predictions,color='red', label='Predictions from the trained model')\n",
    "plt.legend(loc='upper left')\n",
    "plt.show()\n",
    "plt.plot(Y_test,color='blue', label='Read values for the stock')\n",
    "plt.legend(loc='upper left')\n",
    "plt.show()"
   ]
  },
  {
   "cell_type": "code",
   "execution_count": 38,
   "id": "fd6c6634",
   "metadata": {},
   "outputs": [
    {
     "data": {
      "text/html": [
       "<div>\n",
       "<style scoped>\n",
       "    .dataframe tbody tr th:only-of-type {\n",
       "        vertical-align: middle;\n",
       "    }\n",
       "\n",
       "    .dataframe tbody tr th {\n",
       "        vertical-align: top;\n",
       "    }\n",
       "\n",
       "    .dataframe thead th {\n",
       "        text-align: right;\n",
       "    }\n",
       "</style>\n",
       "<table border=\"1\" class=\"dataframe\">\n",
       "  <thead>\n",
       "    <tr style=\"text-align: right;\">\n",
       "      <th></th>\n",
       "      <th>High</th>\n",
       "      <th>Low</th>\n",
       "      <th>Open</th>\n",
       "      <th>Close</th>\n",
       "      <th>Volume</th>\n",
       "      <th>Adj Close</th>\n",
       "    </tr>\n",
       "    <tr>\n",
       "      <th>Date</th>\n",
       "      <th></th>\n",
       "      <th></th>\n",
       "      <th></th>\n",
       "      <th></th>\n",
       "      <th></th>\n",
       "      <th></th>\n",
       "    </tr>\n",
       "  </thead>\n",
       "  <tbody>\n",
       "    <tr>\n",
       "      <th>2020-05-11</th>\n",
       "      <td>1416.530029</td>\n",
       "      <td>1377.151978</td>\n",
       "      <td>1378.280029</td>\n",
       "      <td>1403.260010</td>\n",
       "      <td>1412100</td>\n",
       "      <td>1403.260010</td>\n",
       "    </tr>\n",
       "    <tr>\n",
       "      <th>2020-05-12</th>\n",
       "      <td>1415.000000</td>\n",
       "      <td>1374.770020</td>\n",
       "      <td>1407.119995</td>\n",
       "      <td>1375.739990</td>\n",
       "      <td>1390600</td>\n",
       "      <td>1375.739990</td>\n",
       "    </tr>\n",
       "    <tr>\n",
       "      <th>2020-05-13</th>\n",
       "      <td>1385.482056</td>\n",
       "      <td>1328.400024</td>\n",
       "      <td>1377.050049</td>\n",
       "      <td>1349.329956</td>\n",
       "      <td>1812600</td>\n",
       "      <td>1349.329956</td>\n",
       "    </tr>\n",
       "    <tr>\n",
       "      <th>2020-05-14</th>\n",
       "      <td>1357.420044</td>\n",
       "      <td>1323.910034</td>\n",
       "      <td>1335.020020</td>\n",
       "      <td>1356.130005</td>\n",
       "      <td>1603100</td>\n",
       "      <td>1356.130005</td>\n",
       "    </tr>\n",
       "    <tr>\n",
       "      <th>2020-05-15</th>\n",
       "      <td>1374.479980</td>\n",
       "      <td>1339.000000</td>\n",
       "      <td>1350.000000</td>\n",
       "      <td>1373.189941</td>\n",
       "      <td>1707700</td>\n",
       "      <td>1373.189941</td>\n",
       "    </tr>\n",
       "  </tbody>\n",
       "</table>\n",
       "</div>"
      ],
      "text/plain": [
       "                   High          Low         Open        Close   Volume  \\\n",
       "Date                                                                      \n",
       "2020-05-11  1416.530029  1377.151978  1378.280029  1403.260010  1412100   \n",
       "2020-05-12  1415.000000  1374.770020  1407.119995  1375.739990  1390600   \n",
       "2020-05-13  1385.482056  1328.400024  1377.050049  1349.329956  1812600   \n",
       "2020-05-14  1357.420044  1323.910034  1335.020020  1356.130005  1603100   \n",
       "2020-05-15  1374.479980  1339.000000  1350.000000  1373.189941  1707700   \n",
       "\n",
       "              Adj Close  \n",
       "Date                     \n",
       "2020-05-11  1403.260010  \n",
       "2020-05-12  1375.739990  \n",
       "2020-05-13  1349.329956  \n",
       "2020-05-14  1356.130005  \n",
       "2020-05-15  1373.189941  "
      ]
     },
     "execution_count": 38,
     "metadata": {},
     "output_type": "execute_result"
    }
   ],
   "source": [
    "df=GOOG\n",
    "df.head()"
   ]
  },
  {
   "cell_type": "code",
   "execution_count": 39,
   "id": "42b345f6",
   "metadata": {},
   "outputs": [
    {
     "name": "stdout",
     "output_type": "stream",
     "text": [
      "                 High          Low       Open      Close     Volume  \\\n",
      "Date                                                                  \n",
      "2020-05-11  14.165300  1377.151978  13.782800  14.032600  141210000   \n",
      "2020-05-12  14.150000  1374.770020  14.071200  13.757400  139060000   \n",
      "2020-05-13  13.854821  1328.400024  13.770500  13.493300  181260000   \n",
      "2020-05-14  13.574200  1323.910034  13.350200  13.561300  160310000   \n",
      "2020-05-15  13.744800  1339.000000  13.500000  13.731899  170770000   \n",
      "...               ...          ...        ...        ...        ...   \n",
      "2021-05-03  24.197000  2384.500000  24.027200  23.951699  168940000   \n",
      "2021-05-04  23.792600  2311.699951  23.697400  23.542500  175600000   \n",
      "2021-05-05  23.822000  2351.409912  23.684199  23.567400  109030000   \n",
      "2021-05-06  23.827100  2342.337891  23.506399  23.813501  103090000   \n",
      "2021-05-07  24.164099  2390.000000  24.000000  23.986899  116360000   \n",
      "\n",
      "              Adj Close  \n",
      "Date                     \n",
      "2020-05-11  1403.260010  \n",
      "2020-05-12  1375.739990  \n",
      "2020-05-13  1349.329956  \n",
      "2020-05-14  1356.130005  \n",
      "2020-05-15  1373.189941  \n",
      "...                 ...  \n",
      "2021-05-03  2395.169922  \n",
      "2021-05-04  2354.250000  \n",
      "2021-05-05  2356.739990  \n",
      "2021-05-06  2381.350098  \n",
      "2021-05-07  2398.689941  \n",
      "\n",
      "[251 rows x 6 columns]\n"
     ]
    }
   ],
   "source": [
    "df['Open'] = df['Open']/100\n",
    "df['High'] = df['High']/100\n",
    "df['Volume'] = df['Volume']*100\n",
    "df['Close'] = df['Close']/100\n",
    "print(df)\n",
    "nan_value_index = []\n",
    "High = df.High.isnull()\n",
    "for i in range(0, len(High)):\n",
    "    if High[i] == 1:\n",
    "        nan_value_index.append(i)\n",
    "        df['High'][i] = 0\n",
    "Open = df.Open.isnull()\n",
    "for i in range(0, len(Open)):\n",
    "    if Open[i] == 1:\n",
    "        nan_value_index.append(i)\n",
    "        df['Open'][i] = 0\n",
    "Volume = df.Volume.isnull()\n",
    "for i in range(0, len(Volume)):\n",
    "    if Volume[i] == 1:\n",
    "        nan_value_index.append(i)\n",
    "        df['Volume'][i] = 0\n",
    "Close = df.Close.isnull()\n",
    "for i in range(0, len(Close)):\n",
    "    if Close[i] == 1:\n",
    "        nan_value_index.append(i)\n",
    "        df['Close'][i] = 0"
   ]
  },
  {
   "cell_type": "code",
   "execution_count": 40,
   "id": "df2e02ca",
   "metadata": {},
   "outputs": [],
   "source": [
    "X = df[['High','Open', 'Volume']]\n",
    "Y = df[['Close']]\n",
    "factor = 0.80\n",
    "length = X.shape[0]\n",
    "total_for_train = int(length*factor)\n",
    "X_train = X[:total_for_train]\n",
    "Y_train = Y[:total_for_train]\n",
    "X_test = X[total_for_train:]\n",
    "Y_test = Y[total_for_train:]"
   ]
  },
  {
   "cell_type": "code",
   "execution_count": 41,
   "id": "d6c7ede0",
   "metadata": {},
   "outputs": [
    {
     "name": "stdout",
     "output_type": "stream",
     "text": [
      "X_train (200, 3)\n",
      "y_train (200, 1)\n",
      "X_test (51, 3)\n",
      "y_test (51, 1)\n"
     ]
    }
   ],
   "source": [
    "print(\"X_train\", X_train.shape)\n",
    "print(\"y_train\", Y_train.shape)\n",
    "print(\"X_test\", X_test.shape)\n",
    "print(\"y_test\", Y_test.shape)"
   ]
  },
  {
   "cell_type": "code",
   "execution_count": 42,
   "id": "f5d489de",
   "metadata": {},
   "outputs": [
    {
     "name": "stdout",
     "output_type": "stream",
     "text": [
      "Epoch 1/10\n",
      "2/2 [==============================] - 0s 211ms/step - loss: 367776512.0000 - val_loss: 30884678.0000\n",
      "Epoch 2/10\n",
      "2/2 [==============================] - 0s 20ms/step - loss: 120585744.0000 - val_loss: 96328560.0000\n",
      "Epoch 3/10\n",
      "2/2 [==============================] - 0s 37ms/step - loss: 182346720.0000 - val_loss: 12219010.0000\n",
      "Epoch 4/10\n",
      "2/2 [==============================] - 0s 34ms/step - loss: 19213742.0000 - val_loss: 14860302.0000\n",
      "Epoch 5/10\n",
      "2/2 [==============================] - 0s 34ms/step - loss: 49252776.0000 - val_loss: 43342312.0000\n",
      "Epoch 6/10\n",
      "2/2 [==============================] - 0s 28ms/step - loss: 90333376.0000 - val_loss: 17093588.0000\n",
      "Epoch 7/10\n",
      "2/2 [==============================] - 0s 32ms/step - loss: 28389622.0000 - val_loss: 167754.9688\n",
      "Epoch 8/10\n",
      "2/2 [==============================] - 0s 30ms/step - loss: 4302553.5000 - val_loss: 14393883.0000\n",
      "Epoch 9/10\n",
      "2/2 [==============================] - 0s 35ms/step - loss: 36224184.0000 - val_loss: 17815606.0000\n",
      "Epoch 10/10\n",
      "2/2 [==============================] - 0s 34ms/step - loss: 35669700.0000 - val_loss: 4196006.0000\n"
     ]
    },
    {
     "data": {
      "text/plain": [
       "<tensorflow.python.keras.callbacks.History at 0x21172dbc460>"
      ]
     },
     "execution_count": 42,
     "metadata": {},
     "output_type": "execute_result"
    }
   ],
   "source": [
    "classifier = Sequential()\n",
    "classifier.add(Dense(units = 32, kernel_initializer = 'uniform', activation = 'relu', input_dim = 3))\n",
    "classifier.add(Dense(units = 10, kernel_initializer = 'uniform', activation = 'relu'))\n",
    "classifier.add(Dense(units = 1, kernel_initializer = 'uniform', activation = 'linear'))\n",
    "classifier.compile(optimizer = 'adam', loss = 'mean_squared_error', metrics = [])\n",
    "classifier.fit(X_train, Y_train, batch_size = 128, epochs = 10, validation_split=0.05)"
   ]
  },
  {
   "cell_type": "code",
   "execution_count": 43,
   "id": "1ee126e9",
   "metadata": {},
   "outputs": [
    {
     "name": "stdout",
     "output_type": "stream",
     "text": [
      "WARNING:tensorflow:5 out of the last 9 calls to <function Model.make_predict_function.<locals>.predict_function at 0x0000021172B12EE0> triggered tf.function retracing. Tracing is expensive and the excessive number of tracings could be due to (1) creating @tf.function repeatedly in a loop, (2) passing tensors with different shapes, (3) passing Python objects instead of tensors. For (1), please define your @tf.function outside of the loop. For (2), @tf.function has experimental_relax_shapes=True option that relaxes argument shapes that can avoid unnecessary retracing. For (3), please refer to https://www.tensorflow.org/tutorials/customization/performance#python_or_tensor_args and https://www.tensorflow.org/api_docs/python/tf/function for  more details.\n",
      "[[3095.104 ]\n",
      " [3526.937 ]\n",
      " [2377.5288]\n",
      " [1920.6489]\n",
      " [2512.4497]\n",
      " [3585.3423]\n",
      " [3716.0142]\n",
      " [2788.7065]\n",
      " [2873.1802]\n",
      " [2147.4775]]\n"
     ]
    }
   ],
   "source": [
    "predictions = classifier.predict(X_test)\n",
    "print(predictions[:10])"
   ]
  },
  {
   "cell_type": "code",
   "execution_count": 44,
   "id": "96c81975",
   "metadata": {},
   "outputs": [
    {
     "name": "stdout",
     "output_type": "stream",
     "text": [
      "Train Score: 9262844.00 MSE (3043.49 RMSE)\n",
      "Test Score: 6751343.50 MSE (2598.33 RMSE)\n"
     ]
    }
   ],
   "source": [
    "trainScore = classifier.evaluate(X_train, Y_train, verbose=0)\n",
    "print('Train Score: %.2f MSE (%.2f RMSE)' % (trainScore, math.sqrt(trainScore)))\n",
    "testScore = classifier.evaluate(X_test, Y_test, verbose=0)\n",
    "print('Test Score: %.2f MSE (%.2f RMSE)' % (testScore, math.sqrt(testScore)))"
   ]
  },
  {
   "cell_type": "code",
   "execution_count": 45,
   "id": "18541a5f",
   "metadata": {},
   "outputs": [
    {
     "data": {
      "image/png": "[encoded data removed]",
      "text/plain": [
       "<Figure size 432x288 with 1 Axes>"
      ]
     },
     "metadata": {
      "needs_background": "light"
     },
     "output_type": "display_data"
    },
    {
     "data": {
      "image/png": "[encoded data removed]",
      "text/plain": [
       "<Figure size 432x288 with 1 Axes>"
      ]
     },
     "metadata": {
      "needs_background": "light"
     },
     "output_type": "display_data"
    }
   ],
   "source": [
    "import matplotlib.pyplot as plt\n",
    "plt.plot(predictions,color='red', label='Predictions from the trained model')\n",
    "plt.legend(loc='upper left')\n",
    "plt.show()\n",
    "plt.plot(Y_test,color='blue', label='Read values for the stock')\n",
    "plt.legend(loc='upper left')\n",
    "plt.show()"
   ]
  },
  {
   "cell_type": "code",
   "execution_count": 46,
   "id": "0232e527",
   "metadata": {},
   "outputs": [
    {
     "data": {
      "text/html": [
       "<div>\n",
       "<style scoped>\n",
       "    .dataframe tbody tr th:only-of-type {\n",
       "        vertical-align: middle;\n",
       "    }\n",
       "\n",
       "    .dataframe tbody tr th {\n",
       "        vertical-align: top;\n",
       "    }\n",
       "\n",
       "    .dataframe thead th {\n",
       "        text-align: right;\n",
       "    }\n",
       "</style>\n",
       "<table border=\"1\" class=\"dataframe\">\n",
       "  <thead>\n",
       "    <tr style=\"text-align: right;\">\n",
       "      <th></th>\n",
       "      <th>High</th>\n",
       "      <th>Low</th>\n",
       "      <th>Open</th>\n",
       "      <th>Close</th>\n",
       "      <th>Volume</th>\n",
       "      <th>Adj Close</th>\n",
       "    </tr>\n",
       "    <tr>\n",
       "      <th>Date</th>\n",
       "      <th></th>\n",
       "      <th></th>\n",
       "      <th></th>\n",
       "      <th></th>\n",
       "      <th></th>\n",
       "      <th></th>\n",
       "    </tr>\n",
       "  </thead>\n",
       "  <tbody>\n",
       "    <tr>\n",
       "      <th>2020-05-11</th>\n",
       "      <td>444.890015</td>\n",
       "      <td>435.559998</td>\n",
       "      <td>436.329987</td>\n",
       "      <td>440.519989</td>\n",
       "      <td>5486000</td>\n",
       "      <td>440.519989</td>\n",
       "    </tr>\n",
       "    <tr>\n",
       "      <th>2020-05-12</th>\n",
       "      <td>444.170013</td>\n",
       "      <td>431.359985</td>\n",
       "      <td>442.000000</td>\n",
       "      <td>431.820007</td>\n",
       "      <td>4598200</td>\n",
       "      <td>431.820007</td>\n",
       "    </tr>\n",
       "    <tr>\n",
       "      <th>2020-05-13</th>\n",
       "      <td>447.000000</td>\n",
       "      <td>427.269989</td>\n",
       "      <td>435.690002</td>\n",
       "      <td>438.269989</td>\n",
       "      <td>7014600</td>\n",
       "      <td>438.269989</td>\n",
       "    </tr>\n",
       "    <tr>\n",
       "      <th>2020-05-14</th>\n",
       "      <td>452.380005</td>\n",
       "      <td>432.820007</td>\n",
       "      <td>444.899994</td>\n",
       "      <td>441.950012</td>\n",
       "      <td>9007500</td>\n",
       "      <td>441.950012</td>\n",
       "    </tr>\n",
       "    <tr>\n",
       "      <th>2020-05-15</th>\n",
       "      <td>455.000000</td>\n",
       "      <td>437.510010</td>\n",
       "      <td>440.700012</td>\n",
       "      <td>454.190002</td>\n",
       "      <td>7244000</td>\n",
       "      <td>454.190002</td>\n",
       "    </tr>\n",
       "  </tbody>\n",
       "</table>\n",
       "</div>"
      ],
      "text/plain": [
       "                  High         Low        Open       Close   Volume  \\\n",
       "Date                                                                  \n",
       "2020-05-11  444.890015  435.559998  436.329987  440.519989  5486000   \n",
       "2020-05-12  444.170013  431.359985  442.000000  431.820007  4598200   \n",
       "2020-05-13  447.000000  427.269989  435.690002  438.269989  7014600   \n",
       "2020-05-14  452.380005  432.820007  444.899994  441.950012  9007500   \n",
       "2020-05-15  455.000000  437.510010  440.700012  454.190002  7244000   \n",
       "\n",
       "             Adj Close  \n",
       "Date                    \n",
       "2020-05-11  440.519989  \n",
       "2020-05-12  431.820007  \n",
       "2020-05-13  438.269989  \n",
       "2020-05-14  441.950012  \n",
       "2020-05-15  454.190002  "
      ]
     },
     "execution_count": 46,
     "metadata": {},
     "output_type": "execute_result"
    }
   ],
   "source": [
    "df=NFLX\n",
    "df.head()"
   ]
  },
  {
   "cell_type": "code",
   "execution_count": 47,
   "id": "dbb2a2f3",
   "metadata": {},
   "outputs": [
    {
     "name": "stdout",
     "output_type": "stream",
     "text": [
      "              High         Low    Open   Close     Volume   Adj Close\n",
      "Date                                                                 \n",
      "2020-05-11  4.4489  435.559998  4.3633  4.4052  548600000  440.519989\n",
      "2020-05-12  4.4417  431.359985  4.4200  4.3182  459820000  431.820007\n",
      "2020-05-13  4.4700  427.269989  4.3569  4.3827  701460000  438.269989\n",
      "2020-05-14  4.5238  432.820007  4.4490  4.4195  900750000  441.950012\n",
      "2020-05-15  4.5500  437.510010  4.4070  4.5419  724400000  454.190002\n",
      "...            ...         ...     ...     ...        ...         ...\n",
      "2021-05-03  5.1895  505.200012  5.1265  5.0911  409190000  509.109985\n",
      "2021-05-04  5.1163  496.790009  5.1078  5.0318  434950000  503.179993\n",
      "2021-05-05  5.0778  494.630005  5.0499  4.9608  312940000  496.079987\n",
      "2021-05-06  4.9955  491.369995  4.9599  4.9955  378370000  499.549988\n",
      "2021-05-07  5.0855  501.119995  5.0462  5.0384  313110000  503.839996\n",
      "\n",
      "[251 rows x 6 columns]\n"
     ]
    }
   ],
   "source": [
    "df['Open'] = df['Open']/100\n",
    "df['High'] = df['High']/100\n",
    "df['Volume'] = df['Volume']*100\n",
    "df['Close'] = df['Close']/100\n",
    "print(df)\n",
    "nan_value_index = []\n",
    "High = df.High.isnull()\n",
    "for i in range(0, len(High)):\n",
    "    if High[i] == 1:\n",
    "        nan_value_index.append(i)\n",
    "        df['High'][i] = 0\n",
    "Open = df.Open.isnull()\n",
    "for i in range(0, len(Open)):\n",
    "    if Open[i] == 1:\n",
    "        nan_value_index.append(i)\n",
    "        df['Open'][i] = 0\n",
    "Volume = df.Volume.isnull()\n",
    "for i in range(0, len(Volume)):\n",
    "    if Volume[i] == 1:\n",
    "        nan_value_index.append(i)\n",
    "        df['Volume'][i] = 0\n",
    "Close = df.Close.isnull()\n",
    "for i in range(0, len(Close)):\n",
    "    if Close[i] == 1:\n",
    "        nan_value_index.append(i)\n",
    "        df['Close'][i] = 0"
   ]
  },
  {
   "cell_type": "code",
   "execution_count": 48,
   "id": "2948eb57",
   "metadata": {},
   "outputs": [],
   "source": [
    "X = df[['High','Open', 'Volume']]\n",
    "Y = df[['Close']]\n",
    "factor = 0.80\n",
    "length = X.shape[0]\n",
    "total_for_train = int(length*factor)\n",
    "X_train = X[:total_for_train]\n",
    "Y_train = Y[:total_for_train]\n",
    "X_test = X[total_for_train:]\n",
    "Y_test = Y[total_for_train:]"
   ]
  },
  {
   "cell_type": "code",
   "execution_count": 49,
   "id": "4db5b362",
   "metadata": {},
   "outputs": [
    {
     "name": "stdout",
     "output_type": "stream",
     "text": [
      "X_train (200, 3)\n",
      "y_train (200, 1)\n",
      "X_test (51, 3)\n",
      "y_test (51, 1)\n"
     ]
    }
   ],
   "source": [
    "print(\"X_train\", X_train.shape)\n",
    "print(\"y_train\", Y_train.shape)\n",
    "print(\"X_test\", X_test.shape)\n",
    "print(\"y_test\", Y_test.shape)"
   ]
  },
  {
   "cell_type": "code",
   "execution_count": 50,
   "id": "63882015",
   "metadata": {},
   "outputs": [
    {
     "name": "stdout",
     "output_type": "stream",
     "text": [
      "Epoch 1/10\n",
      "2/2 [==============================] - 0s 108ms/step - loss: 19713708032.0000 - val_loss: 1061167744.0000\n",
      "Epoch 2/10\n",
      "2/2 [==============================] - 0s 11ms/step - loss: 5541405696.0000 - val_loss: 280473536.0000\n",
      "Epoch 3/10\n",
      "2/2 [==============================] - 0s 22ms/step - loss: 1508672896.0000 - val_loss: 153438512.0000\n",
      "Epoch 4/10\n",
      "2/2 [==============================] - 0s 19ms/step - loss: 835153856.0000 - val_loss: 80181424.0000\n",
      "Epoch 5/10\n",
      "2/2 [==============================] - 0s 18ms/step - loss: 449705440.0000 - val_loss: 40294592.0000\n",
      "Epoch 6/10\n",
      "2/2 [==============================] - 0s 20ms/step - loss: 211191744.0000 - val_loss: 19819382.0000\n",
      "Epoch 7/10\n",
      "2/2 [==============================] - 0s 20ms/step - loss: 103101384.0000 - val_loss: 9338845.0000\n",
      "Epoch 8/10\n",
      "2/2 [==============================] - 0s 25ms/step - loss: 50206548.0000 - val_loss: 4171228.0000\n",
      "Epoch 9/10\n",
      "2/2 [==============================] - 0s 23ms/step - loss: 22528458.0000 - val_loss: 1732779.2500\n",
      "Epoch 10/10\n",
      "2/2 [==============================] - 0s 20ms/step - loss: 9090154.0000 - val_loss: 633708.3750\n"
     ]
    },
    {
     "data": {
      "text/plain": [
       "<tensorflow.python.keras.callbacks.History at 0x2116f862100>"
      ]
     },
     "execution_count": 50,
     "metadata": {},
     "output_type": "execute_result"
    }
   ],
   "source": [
    "classifier = Sequential()\n",
    "classifier.add(Dense(units = 32, kernel_initializer = 'uniform', activation = 'relu', input_dim = 3))\n",
    "classifier.add(Dense(units = 10, kernel_initializer = 'uniform', activation = 'relu'))\n",
    "classifier.add(Dense(units = 1, kernel_initializer = 'uniform', activation = 'linear'))\n",
    "classifier.compile(optimizer = 'adam', loss = 'mean_squared_error', metrics = [])\n",
    "classifier.fit(X_train, Y_train, batch_size = 128, epochs = 10, validation_split=0.05)"
   ]
  },
  {
   "cell_type": "code",
   "execution_count": 51,
   "id": "6134d079",
   "metadata": {},
   "outputs": [
    {
     "name": "stdout",
     "output_type": "stream",
     "text": [
      "WARNING:tensorflow:6 out of the last 11 calls to <function Model.make_predict_function.<locals>.predict_function at 0x00000211740B1280> triggered tf.function retracing. Tracing is expensive and the excessive number of tracings could be due to (1) creating @tf.function repeatedly in a loop, (2) passing tensors with different shapes, (3) passing Python objects instead of tensors. For (1), please define your @tf.function outside of the loop. For (2), @tf.function has experimental_relax_shapes=True option that relaxes argument shapes that can avoid unnecessary retracing. For (3), please refer to https://www.tensorflow.org/tutorials/customization/performance#python_or_tensor_args and https://www.tensorflow.org/api_docs/python/tf/function for  more details.\n",
      "[[1132.3195 ]\n",
      " [ 999.91364]\n",
      " [ 809.75836]\n",
      " [ 809.9713 ]\n",
      " [1427.7233 ]\n",
      " [1340.5001 ]\n",
      " [1349.872  ]\n",
      " [1060.1393 ]\n",
      " [ 923.87274]\n",
      " [1004.1471 ]]\n"
     ]
    }
   ],
   "source": [
    "predictions = classifier.predict(X_test)\n",
    "print(predictions[:10])"
   ]
  },
  {
   "cell_type": "code",
   "execution_count": 52,
   "id": "2ed3efa5",
   "metadata": {},
   "outputs": [
    {
     "name": "stdout",
     "output_type": "stream",
     "text": [
      "Train Score: 3651229.50 MSE (1910.82 RMSE)\n",
      "Test Score: 2053826.25 MSE (1433.12 RMSE)\n"
     ]
    }
   ],
   "source": [
    "trainScore = classifier.evaluate(X_train, Y_train, verbose=0)\n",
    "print('Train Score: %.2f MSE (%.2f RMSE)' % (trainScore, math.sqrt(trainScore)))\n",
    "testScore = classifier.evaluate(X_test, Y_test, verbose=0)\n",
    "print('Test Score: %.2f MSE (%.2f RMSE)' % (testScore, math.sqrt(testScore)))"
   ]
  },
  {
   "cell_type": "code",
   "execution_count": 53,
   "id": "27e23079",
   "metadata": {},
   "outputs": [
    {
     "data": {
      "image/png": "[encoded data removed]",
      "text/plain": [
       "<Figure size 432x288 with 1 Axes>"
      ]
     },
     "metadata": {
      "needs_background": "light"
     },
     "output_type": "display_data"
    },
    {
     "data": {
      "image/png": "[encoded data removed]",
      "text/plain": [
       "<Figure size 432x288 with 1 Axes>"
      ]
     },
     "metadata": {
      "needs_background": "light"
     },
     "output_type": "display_data"
    }
   ],
   "source": [
    "import matplotlib.pyplot as plt\n",
    "plt.plot(predictions,color='red', label='Predictions from the trained model')\n",
    "plt.legend(loc='upper left')\n",
    "plt.show()\n",
    "plt.plot(Y_test,color='blue', label='Read values for the stock')\n",
    "plt.legend(loc='upper left')\n",
    "plt.show()\n"
   ]
  },
  {
   "cell_type": "code",
   "execution_count": 54,
   "id": "ea6eddbe",
   "metadata": {},
   "outputs": [
    {
     "data": {
      "text/html": [
       "<div>\n",
       "<style scoped>\n",
       "    .dataframe tbody tr th:only-of-type {\n",
       "        vertical-align: middle;\n",
       "    }\n",
       "\n",
       "    .dataframe tbody tr th {\n",
       "        vertical-align: top;\n",
       "    }\n",
       "\n",
       "    .dataframe thead th {\n",
       "        text-align: right;\n",
       "    }\n",
       "</style>\n",
       "<table border=\"1\" class=\"dataframe\">\n",
       "  <thead>\n",
       "    <tr style=\"text-align: right;\">\n",
       "      <th></th>\n",
       "      <th>High</th>\n",
       "      <th>Low</th>\n",
       "      <th>Open</th>\n",
       "      <th>Close</th>\n",
       "      <th>Volume</th>\n",
       "      <th>Adj Close</th>\n",
       "    </tr>\n",
       "    <tr>\n",
       "      <th>Date</th>\n",
       "      <th></th>\n",
       "      <th></th>\n",
       "      <th></th>\n",
       "      <th></th>\n",
       "      <th></th>\n",
       "      <th></th>\n",
       "    </tr>\n",
       "  </thead>\n",
       "  <tbody>\n",
       "    <tr>\n",
       "      <th>2020-05-11</th>\n",
       "      <td>164.800003</td>\n",
       "      <td>157.000000</td>\n",
       "      <td>158.102005</td>\n",
       "      <td>162.257996</td>\n",
       "      <td>82598000.0</td>\n",
       "      <td>162.257996</td>\n",
       "    </tr>\n",
       "    <tr>\n",
       "      <th>2020-05-12</th>\n",
       "      <td>168.658005</td>\n",
       "      <td>161.600006</td>\n",
       "      <td>165.399994</td>\n",
       "      <td>161.882004</td>\n",
       "      <td>79534500.0</td>\n",
       "      <td>161.882004</td>\n",
       "    </tr>\n",
       "    <tr>\n",
       "      <th>2020-05-13</th>\n",
       "      <td>165.199997</td>\n",
       "      <td>152.660004</td>\n",
       "      <td>164.166000</td>\n",
       "      <td>158.192001</td>\n",
       "      <td>95327500.0</td>\n",
       "      <td>158.192001</td>\n",
       "    </tr>\n",
       "    <tr>\n",
       "      <th>2020-05-14</th>\n",
       "      <td>160.671997</td>\n",
       "      <td>152.800003</td>\n",
       "      <td>156.000000</td>\n",
       "      <td>160.666000</td>\n",
       "      <td>68411000.0</td>\n",
       "      <td>160.666000</td>\n",
       "    </tr>\n",
       "    <tr>\n",
       "      <th>2020-05-15</th>\n",
       "      <td>161.009995</td>\n",
       "      <td>157.309998</td>\n",
       "      <td>158.070007</td>\n",
       "      <td>159.834000</td>\n",
       "      <td>52592000.0</td>\n",
       "      <td>159.834000</td>\n",
       "    </tr>\n",
       "  </tbody>\n",
       "</table>\n",
       "</div>"
      ],
      "text/plain": [
       "                  High         Low        Open       Close      Volume  \\\n",
       "Date                                                                     \n",
       "2020-05-11  164.800003  157.000000  158.102005  162.257996  82598000.0   \n",
       "2020-05-12  168.658005  161.600006  165.399994  161.882004  79534500.0   \n",
       "2020-05-13  165.199997  152.660004  164.166000  158.192001  95327500.0   \n",
       "2020-05-14  160.671997  152.800003  156.000000  160.666000  68411000.0   \n",
       "2020-05-15  161.009995  157.309998  158.070007  159.834000  52592000.0   \n",
       "\n",
       "             Adj Close  \n",
       "Date                    \n",
       "2020-05-11  162.257996  \n",
       "2020-05-12  161.882004  \n",
       "2020-05-13  158.192001  \n",
       "2020-05-14  160.666000  \n",
       "2020-05-15  159.834000  "
      ]
     },
     "execution_count": 54,
     "metadata": {},
     "output_type": "execute_result"
    }
   ],
   "source": [
    "df=TSLA\n",
    "df.head()"
   ]
  },
  {
   "cell_type": "code",
   "execution_count": 55,
   "id": "f807b145",
   "metadata": {},
   "outputs": [
    {
     "name": "stdout",
     "output_type": "stream",
     "text": [
      "               High         Low     Open    Close        Volume   Adj Close\n",
      "Date                                                                       \n",
      "2020-05-11  1.64800  157.000000  1.58102  1.62258  8.259800e+09  162.257996\n",
      "2020-05-12  1.68658  161.600006  1.65400  1.61882  7.953450e+09  161.882004\n",
      "2020-05-13  1.65200  152.660004  1.64166  1.58192  9.532750e+09  158.192001\n",
      "2020-05-14  1.60672  152.800003  1.56000  1.60666  6.841100e+09  160.666000\n",
      "2020-05-15  1.61010  157.309998  1.58070  1.59834  5.259200e+09  159.834000\n",
      "...             ...         ...      ...      ...           ...         ...\n",
      "2021-05-03  7.06000  680.500000  7.03800  6.84900  2.704310e+09  684.900024\n",
      "2021-05-04  6.83450  657.700012  6.78940  6.73600  2.973930e+09  673.599976\n",
      "2021-05-05  6.85300  667.340027  6.81060  6.70940  2.190190e+09  670.940002\n",
      "2021-05-06  6.81020  650.000000  6.80760  6.63540  2.778460e+09  663.539978\n",
      "2021-05-07  6.90000  660.219971  6.65800  6.72370  2.342210e+09  672.369995\n",
      "\n",
      "[251 rows x 6 columns]\n"
     ]
    }
   ],
   "source": [
    "df['Open'] = df['Open']/100\n",
    "df['High'] = df['High']/100\n",
    "df['Volume'] = df['Volume']*100\n",
    "df['Close'] = df['Close']/100\n",
    "print(df)\n",
    "nan_value_index = []\n",
    "High = df.High.isnull()\n",
    "for i in range(0, len(High)):\n",
    "    if High[i] == 1:\n",
    "        nan_value_index.append(i)\n",
    "        df['High'][i] = 0\n",
    "Open = df.Open.isnull()\n",
    "for i in range(0, len(Open)):\n",
    "    if Open[i] == 1:\n",
    "        nan_value_index.append(i)\n",
    "        df['Open'][i] = 0\n",
    "Volume = df.Volume.isnull()\n",
    "for i in range(0, len(Volume)):\n",
    "    if Volume[i] == 1:\n",
    "        nan_value_index.append(i)\n",
    "        df['Volume'][i] = 0\n",
    "Close = df.Close.isnull()\n",
    "for i in range(0, len(Close)):\n",
    "    if Close[i] == 1:\n",
    "        nan_value_index.append(i)\n",
    "        df['Close'][i] = 0"
   ]
  },
  {
   "cell_type": "code",
   "execution_count": 56,
   "id": "f8c8b243",
   "metadata": {},
   "outputs": [],
   "source": [
    "X = df[['High','Open', 'Volume']]\n",
    "Y = df[['Close']]\n",
    "factor = 0.80\n",
    "length = X.shape[0]\n",
    "total_for_train = int(length*factor)\n",
    "X_train = X[:total_for_train]\n",
    "Y_train = Y[:total_for_train]\n",
    "X_test = X[total_for_train:]\n",
    "Y_test = Y[total_for_train:]"
   ]
  },
  {
   "cell_type": "code",
   "execution_count": 57,
   "id": "5951a766",
   "metadata": {},
   "outputs": [
    {
     "name": "stdout",
     "output_type": "stream",
     "text": [
      "X_train (200, 3)\n",
      "y_train (200, 1)\n",
      "X_test (51, 3)\n",
      "y_test (51, 1)\n"
     ]
    }
   ],
   "source": [
    "print(\"X_train\", X_train.shape)\n",
    "print(\"y_train\", Y_train.shape)\n",
    "print(\"X_test\", X_test.shape)\n",
    "print(\"y_test\", Y_test.shape)"
   ]
  },
  {
   "cell_type": "code",
   "execution_count": 58,
   "id": "eb566db4",
   "metadata": {},
   "outputs": [
    {
     "name": "stdout",
     "output_type": "stream",
     "text": [
      "Epoch 1/10\n",
      "2/2 [==============================] - 0s 109ms/step - loss: 1772371705856.0000 - val_loss: 177302847488.0000\n",
      "Epoch 2/10\n",
      "2/2 [==============================] - 0s 21ms/step - loss: 564912324608.0000 - val_loss: 23032698880.0000\n",
      "Epoch 3/10\n",
      "2/2 [==============================] - 0s 25ms/step - loss: 61618085888.0000 - val_loss: 2981242368.0000\n",
      "Epoch 4/10\n",
      "2/2 [==============================] - 0s 23ms/step - loss: 27367413760.0000 - val_loss: 25411031040.0000\n",
      "Epoch 5/10\n",
      "2/2 [==============================] - 0s 23ms/step - loss: 104415838208.0000 - val_loss: 37599830016.0000\n",
      "Epoch 6/10\n",
      "2/2 [==============================] - 0s 19ms/step - loss: 144921264128.0000 - val_loss: 38322733056.0000\n",
      "Epoch 7/10\n",
      "2/2 [==============================] - 0s 33ms/step - loss: 141246971904.0000 - val_loss: 30733762560.0000\n",
      "Epoch 8/10\n",
      "2/2 [==============================] - 0s 29ms/step - loss: 109642326016.0000 - val_loss: 20750946304.0000\n",
      "Epoch 9/10\n",
      "2/2 [==============================] - 0s 29ms/step - loss: 72697430016.0000 - val_loss: 11711717376.0000\n",
      "Epoch 10/10\n",
      "2/2 [==============================] - 0s 30ms/step - loss: 39638441984.0000 - val_loss: 5308675584.0000\n"
     ]
    },
    {
     "data": {
      "text/plain": [
       "<tensorflow.python.keras.callbacks.History at 0x2117423d7f0>"
      ]
     },
     "execution_count": 58,
     "metadata": {},
     "output_type": "execute_result"
    }
   ],
   "source": [
    "classifier = Sequential()\n",
    "classifier.add(Dense(units = 32, kernel_initializer = 'uniform', activation = 'relu', input_dim = 3))\n",
    "classifier.add(Dense(units = 10, kernel_initializer = 'uniform', activation = 'relu'))\n",
    "classifier.add(Dense(units = 1, kernel_initializer = 'uniform', activation = 'linear'))\n",
    "classifier.compile(optimizer = 'adam', loss = 'mean_squared_error', metrics = [])\n",
    "classifier.fit(X_train, Y_train, batch_size = 128, epochs = 10, validation_split=0.05)"
   ]
  },
  {
   "cell_type": "code",
   "execution_count": 59,
   "id": "de7d7014",
   "metadata": {},
   "outputs": [
    {
     "name": "stdout",
     "output_type": "stream",
     "text": [
      "WARNING:tensorflow:6 out of the last 11 calls to <function Model.make_predict_function.<locals>.predict_function at 0x00000211744C2D30> triggered tf.function retracing. Tracing is expensive and the excessive number of tracings could be due to (1) creating @tf.function repeatedly in a loop, (2) passing tensors with different shapes, (3) passing Python objects instead of tensors. For (1), please define your @tf.function outside of the loop. For (2), @tf.function has experimental_relax_shapes=True option that relaxes argument shapes that can avoid unnecessary retracing. For (3), please refer to https://www.tensorflow.org/tutorials/customization/performance#python_or_tensor_args and https://www.tensorflow.org/api_docs/python/tf/function for  more details.\n",
      "[[ 84699.19 ]\n",
      " [ 89181.82 ]\n",
      " [ 58897.598]\n",
      " [ 51509.418]\n",
      " [ 65564.77 ]\n",
      " [143074.56 ]\n",
      " [194030.08 ]\n",
      " [112400.805]\n",
      " [146555.56 ]\n",
      " [131541.28 ]]\n"
     ]
    }
   ],
   "source": [
    "predictions = classifier.predict(X_test)\n",
    "print(predictions[:10])"
   ]
  },
  {
   "cell_type": "code",
   "execution_count": 60,
   "id": "ee2118dd",
   "metadata": {},
   "outputs": [
    {
     "name": "stdout",
     "output_type": "stream",
     "text": [
      "Train Score: 19323768832.00 MSE (139009.96 RMSE)\n",
      "Test Score: 6818958336.00 MSE (82576.98 RMSE)\n"
     ]
    }
   ],
   "source": [
    "trainScore = classifier.evaluate(X_train, Y_train, verbose=0)\n",
    "print('Train Score: %.2f MSE (%.2f RMSE)' % (trainScore, math.sqrt(trainScore)))\n",
    "testScore = classifier.evaluate(X_test, Y_test, verbose=0)\n",
    "print('Test Score: %.2f MSE (%.2f RMSE)' % (testScore, math.sqrt(testScore)))"
   ]
  },
  {
   "cell_type": "code",
   "execution_count": 61,
   "id": "0cba05e4",
   "metadata": {},
   "outputs": [
    {
     "data": {
      "image/png": "[encoded data removed]",
      "text/plain": [
       "<Figure size 432x288 with 1 Axes>"
      ]
     },
     "metadata": {
      "needs_background": "light"
     },
     "output_type": "display_data"
    },
    {
     "data": {
      "image/png": "[encoded data removed]",
      "text/plain": [
       "<Figure size 432x288 with 1 Axes>"
      ]
     },
     "metadata": {
      "needs_background": "light"
     },
     "output_type": "display_data"
    }
   ],
   "source": [
    "import matplotlib.pyplot as plt\n",
    "plt.plot(predictions,color='red', label='Predictions from the trained model')\n",
    "plt.legend(loc='upper left')\n",
    "plt.show()\n",
    "plt.plot(Y_test,color='blue', label='Read values for the stock')\n",
    "plt.legend(loc='upper left')\n",
    "plt.show()"
   ]
  },
  {
   "cell_type": "code",
   "execution_count": null,
   "id": "a9481669",
   "metadata": {},
   "outputs": [],
   "source": []
  }
 ],
 "metadata": {
  "kernelspec": {
   "display_name": "Python 3",
   "language": "python",
   "name": "python3"
  },
  "language_info": {
   "codemirror_mode": {
    "name": "ipython",
    "version": 3
   },
   "file_extension": ".py",
   "mimetype": "text/x-python",
   "name": "python",
   "nbconvert_exporter": "python",
   "pygments_lexer": "ipython3",
   "version": "3.8.8"
  }
 },
 "nbformat": 4,
 "nbformat_minor": 5
}
