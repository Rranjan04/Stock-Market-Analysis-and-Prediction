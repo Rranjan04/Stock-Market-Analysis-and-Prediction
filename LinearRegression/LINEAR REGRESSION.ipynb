{
 "cells": [
  {
   "cell_type": "code",
   "execution_count": 9,
   "id": "16968d22",
   "metadata": {},
   "outputs": [],
   "source": [
    "import pandas as pd\n",
    "import numpy as np\n",
    "import datetime\n",
    "import pandas_datareader.data as web\n",
    "import matplotlib.pyplot as pl\n",
    "from pandas.plotting import scatter_matrix\n",
    "import matplotlib.pyplot as plt\n",
    "from matplotlib import style"
   ]
  },
  {
   "cell_type": "code",
   "execution_count": 2,
   "id": "75c35ee3",
   "metadata": {},
   "outputs": [],
   "source": [
    "# For reading stock data from yahoo\n",
    "from __future__ import division\n",
    "from pandas_datareader import DataReader\n",
    "#import fix_yahoo_finance as yf\n",
    "\n",
    "# For time stamps\n",
    "from datetime import datetime"
   ]
  },
  {
   "cell_type": "code",
   "execution_count": 3,
   "id": "c3c9a3ed",
   "metadata": {},
   "outputs": [],
   "source": [
    "# List of Tech_stocks for analytics\n",
    "tech_list = ['AAPL','AMZN','FB','GOOG','NFLX','TSLA']\n",
    "\n",
    "# set up Start and End time for data grab\n",
    "end = datetime.now()\n",
    "start = datetime(end.year-1,end.month,end.day)\n",
    "\n",
    "#For-loop for grabing Yahoo finance data and setting as a dataframe\n",
    "# Set DataFrame as the Stock Ticker\n",
    "\n",
    "for stock in tech_list:\n",
    "    globals()[stock] = DataReader(stock,'yahoo',start,end)"
   ]
  },
  {
   "cell_type": "code",
   "execution_count": 12,
   "id": "aa6a160a",
   "metadata": {},
   "outputs": [
    {
     "data": {
      "text/html": [
       "<div>\n",
       "<style scoped>\n",
       "    .dataframe tbody tr th:only-of-type {\n",
       "        vertical-align: middle;\n",
       "    }\n",
       "\n",
       "    .dataframe tbody tr th {\n",
       "        vertical-align: top;\n",
       "    }\n",
       "\n",
       "    .dataframe thead th {\n",
       "        text-align: right;\n",
       "    }\n",
       "</style>\n",
       "<table border=\"1\" class=\"dataframe\">\n",
       "  <thead>\n",
       "    <tr style=\"text-align: right;\">\n",
       "      <th></th>\n",
       "      <th>High</th>\n",
       "      <th>Low</th>\n",
       "      <th>Open</th>\n",
       "      <th>Close</th>\n",
       "      <th>Volume</th>\n",
       "      <th>Adj Close</th>\n",
       "    </tr>\n",
       "    <tr>\n",
       "      <th>Date</th>\n",
       "      <th></th>\n",
       "      <th></th>\n",
       "      <th></th>\n",
       "      <th></th>\n",
       "      <th></th>\n",
       "      <th></th>\n",
       "    </tr>\n",
       "  </thead>\n",
       "  <tbody>\n",
       "    <tr>\n",
       "      <th>2020-05-11</th>\n",
       "      <td>79.262497</td>\n",
       "      <td>76.809998</td>\n",
       "      <td>77.025002</td>\n",
       "      <td>78.752502</td>\n",
       "      <td>145946400.0</td>\n",
       "      <td>78.225410</td>\n",
       "    </tr>\n",
       "    <tr>\n",
       "      <th>2020-05-12</th>\n",
       "      <td>79.922501</td>\n",
       "      <td>77.727501</td>\n",
       "      <td>79.457497</td>\n",
       "      <td>77.852501</td>\n",
       "      <td>162301200.0</td>\n",
       "      <td>77.331436</td>\n",
       "    </tr>\n",
       "    <tr>\n",
       "      <th>2020-05-13</th>\n",
       "      <td>78.987503</td>\n",
       "      <td>75.802498</td>\n",
       "      <td>78.037498</td>\n",
       "      <td>76.912498</td>\n",
       "      <td>200622400.0</td>\n",
       "      <td>76.397720</td>\n",
       "    </tr>\n",
       "    <tr>\n",
       "      <th>2020-05-14</th>\n",
       "      <td>77.447502</td>\n",
       "      <td>75.382500</td>\n",
       "      <td>76.127502</td>\n",
       "      <td>77.385002</td>\n",
       "      <td>158929200.0</td>\n",
       "      <td>76.867065</td>\n",
       "    </tr>\n",
       "    <tr>\n",
       "      <th>2020-05-15</th>\n",
       "      <td>76.974998</td>\n",
       "      <td>75.052498</td>\n",
       "      <td>75.087502</td>\n",
       "      <td>76.927498</td>\n",
       "      <td>166348400.0</td>\n",
       "      <td>76.412621</td>\n",
       "    </tr>\n",
       "  </tbody>\n",
       "</table>\n",
       "</div>"
      ],
      "text/plain": [
       "                 High        Low       Open      Close       Volume  Adj Close\n",
       "Date                                                                          \n",
       "2020-05-11  79.262497  76.809998  77.025002  78.752502  145946400.0  78.225410\n",
       "2020-05-12  79.922501  77.727501  79.457497  77.852501  162301200.0  77.331436\n",
       "2020-05-13  78.987503  75.802498  78.037498  76.912498  200622400.0  76.397720\n",
       "2020-05-14  77.447502  75.382500  76.127502  77.385002  158929200.0  76.867065\n",
       "2020-05-15  76.974998  75.052498  75.087502  76.927498  166348400.0  76.412621"
      ]
     },
     "execution_count": 12,
     "metadata": {},
     "output_type": "execute_result"
    }
   ],
   "source": [
    "df=AAPL\n",
    "df.head()"
   ]
  },
  {
   "cell_type": "code",
   "execution_count": 13,
   "id": "f29fd855",
   "metadata": {},
   "outputs": [
    {
     "data": {
      "text/html": [
       "<div>\n",
       "<style scoped>\n",
       "    .dataframe tbody tr th:only-of-type {\n",
       "        vertical-align: middle;\n",
       "    }\n",
       "\n",
       "    .dataframe tbody tr th {\n",
       "        vertical-align: top;\n",
       "    }\n",
       "\n",
       "    .dataframe thead th {\n",
       "        text-align: right;\n",
       "    }\n",
       "</style>\n",
       "<table border=\"1\" class=\"dataframe\">\n",
       "  <thead>\n",
       "    <tr style=\"text-align: right;\">\n",
       "      <th></th>\n",
       "      <th>Adj Close</th>\n",
       "      <th>Volume</th>\n",
       "      <th>HL_PCT</th>\n",
       "      <th>PCT_change</th>\n",
       "    </tr>\n",
       "    <tr>\n",
       "      <th>Date</th>\n",
       "      <th></th>\n",
       "      <th></th>\n",
       "      <th></th>\n",
       "      <th></th>\n",
       "    </tr>\n",
       "  </thead>\n",
       "  <tbody>\n",
       "    <tr>\n",
       "      <th>2021-05-03</th>\n",
       "      <td>132.315247</td>\n",
       "      <td>75135100.0</td>\n",
       "      <td>1.690060</td>\n",
       "      <td>0.378673</td>\n",
       "    </tr>\n",
       "    <tr>\n",
       "      <th>2021-05-04</th>\n",
       "      <td>127.633202</td>\n",
       "      <td>137564700.0</td>\n",
       "      <td>3.746585</td>\n",
       "      <td>-2.545929</td>\n",
       "    </tr>\n",
       "    <tr>\n",
       "      <th>2021-05-05</th>\n",
       "      <td>127.882790</td>\n",
       "      <td>84000900.0</td>\n",
       "      <td>1.935984</td>\n",
       "      <td>-0.851386</td>\n",
       "    </tr>\n",
       "    <tr>\n",
       "      <th>2021-05-06</th>\n",
       "      <td>129.520004</td>\n",
       "      <td>78128300.0</td>\n",
       "      <td>2.019425</td>\n",
       "      <td>1.446560</td>\n",
       "    </tr>\n",
       "    <tr>\n",
       "      <th>2021-05-07</th>\n",
       "      <td>130.210007</td>\n",
       "      <td>78892700.0</td>\n",
       "      <td>1.367021</td>\n",
       "      <td>-0.489109</td>\n",
       "    </tr>\n",
       "  </tbody>\n",
       "</table>\n",
       "</div>"
      ],
      "text/plain": [
       "             Adj Close       Volume    HL_PCT  PCT_change\n",
       "Date                                                     \n",
       "2021-05-03  132.315247   75135100.0  1.690060    0.378673\n",
       "2021-05-04  127.633202  137564700.0  3.746585   -2.545929\n",
       "2021-05-05  127.882790   84000900.0  1.935984   -0.851386\n",
       "2021-05-06  129.520004   78128300.0  2.019425    1.446560\n",
       "2021-05-07  130.210007   78892700.0  1.367021   -0.489109"
      ]
     },
     "execution_count": 13,
     "metadata": {},
     "output_type": "execute_result"
    }
   ],
   "source": [
    "dfreg = df.loc[:,['Adj Close','Volume']]\n",
    "dfreg['HL_PCT'] = (df['High'] - df['Low']) / df['Close'] * 100.0\n",
    "dfreg['PCT_change'] = (df['Close'] - df['Open']) / df['Open'] * 100.0\n",
    "dfreg.tail()"
   ]
  },
  {
   "cell_type": "code",
   "execution_count": 14,
   "id": "aee429d7",
   "metadata": {},
   "outputs": [],
   "source": [
    "import math\n",
    "from sklearn import preprocessing\n",
    "\n",
    "# Drop missing value\n",
    "dfreg.fillna(value=-99999, inplace=True)\n",
    "# We want to separate 1 percent of the data to forecast\n",
    "forecast_out = int(math.ceil(0.01 * len(dfreg)))\n",
    "# Separating the label here, we want to predict the AdjClose\n",
    "forecast_col = 'Adj Close'\n",
    "dfreg['label'] = dfreg[forecast_col].shift(-forecast_out)\n",
    "X = np.array(dfreg.drop(['label'], 1))\n",
    "# Scale the X so that everyone can have the same distribution for linear regression\n",
    "X = preprocessing.scale(X)\n",
    "# Finally We want to find Data Series of late X and early X (train) for model generation and evaluation\n",
    "X_lately = X[-forecast_out:]\n",
    "X = X[:-forecast_out]\n",
    "# Separate label and identify it as y\n",
    "y = np.array(dfreg['label'])\n",
    "y = y[:-forecast_out]\n",
    "y_lately = y[-forecast_out:]"
   ]
  },
  {
   "cell_type": "code",
   "execution_count": 21,
   "id": "3ee68614",
   "metadata": {},
   "outputs": [],
   "source": [
    "from sklearn.linear_model import LinearRegression\n",
    "from sklearn.preprocessing import PolynomialFeatures"
   ]
  },
  {
   "cell_type": "code",
   "execution_count": 22,
   "id": "514679a1",
   "metadata": {},
   "outputs": [
    {
     "data": {
      "text/plain": [
       "LinearRegression(n_jobs=-1)"
      ]
     },
     "execution_count": 22,
     "metadata": {},
     "output_type": "execute_result"
    }
   ],
   "source": [
    "X_train = X\n",
    "y_train = y\n",
    "\n",
    "# 1. Linear regression \n",
    "clfreg = LinearRegression(n_jobs=-1)\n",
    "clfreg.fit(X_train, y_train)\n",
    "\n"
   ]
  },
  {
   "cell_type": "code",
   "execution_count": 23,
   "id": "87b99901",
   "metadata": {},
   "outputs": [
    {
     "name": "stdout",
     "output_type": "stream",
     "text": [
      "confidencereg :  0.8342855302834771\n"
     ]
    }
   ],
   "source": [
    "X_test = X_lately\n",
    "y_test = y_lately\n",
    "\n",
    "confidence_reg = clfreg.score(X_test, y_test)\n",
    "\n",
    "print(\"confidencereg : \",confidence_reg)\n"
   ]
  },
  {
   "cell_type": "code",
   "execution_count": 24,
   "id": "320721a7",
   "metadata": {},
   "outputs": [],
   "source": [
    "dfreg_lr = dfreg.copy()\n",
    "dfreg_lasso = dfreg.copy()\n",
    "dfreg_ridge = dfreg.copy()\n",
    "dfreg_br = dfreg.copy()\n",
    "\n",
    "noOfDaysData = 100"
   ]
  },
  {
   "cell_type": "markdown",
   "id": "ed81ddcd",
   "metadata": {},
   "source": [
    "# Prediction using Linear Regression"
   ]
  },
  {
   "cell_type": "code",
   "execution_count": 25,
   "id": "99550fe3",
   "metadata": {},
   "outputs": [
    {
     "name": "stdout",
     "output_type": "stream",
     "text": [
      "[128.17952615 129.43503683 130.82503343]\n"
     ]
    }
   ],
   "source": [
    "forecast_set_linear_regression = clfreg.predict(X_lately)\n",
    "dfreg_lr['Forecast_linear_regression'] =  np.nan\n",
    "print(forecast_set_linear_regression)"
   ]
  },
  {
   "cell_type": "code",
   "execution_count": 26,
   "id": "c7cff30d",
   "metadata": {},
   "outputs": [
    {
     "data": {
      "image/png": "[encoded data removed]",
      "text/plain": [
       "<Figure size 432x288 with 1 Axes>"
      ]
     },
     "metadata": {
      "needs_background": "light"
     },
     "output_type": "display_data"
    }
   ],
   "source": [
    "last_date = dfreg_lr.iloc[-1].name\n",
    "last_unix = last_date\n",
    "next_unix = last_unix + datetime.timedelta(days=1)\n",
    "\n",
    "for i in forecast_set_linear_regression:\n",
    "    next_date = next_unix\n",
    "    next_unix += datetime.timedelta(days=1)\n",
    "    dfreg_lr.loc[next_date] = [np.nan for _ in range(len(dfreg_lr.columns)-1)]+[i]\n",
    "dfreg_lr['Adj Close'].tail(noOfDaysData).plot()\n",
    "dfreg_lr['Forecast_linear_regression'].tail(noOfDaysData).plot()\n",
    "plt.legend(loc=4)\n",
    "plt.xlabel('Date')\n",
    "plt.ylabel('Price')\n",
    "plt.show()"
   ]
  },
  {
   "cell_type": "code",
   "execution_count": 27,
   "id": "892f04a7",
   "metadata": {},
   "outputs": [
    {
     "data": {
      "text/html": [
       "<div>\n",
       "<style scoped>\n",
       "    .dataframe tbody tr th:only-of-type {\n",
       "        vertical-align: middle;\n",
       "    }\n",
       "\n",
       "    .dataframe tbody tr th {\n",
       "        vertical-align: top;\n",
       "    }\n",
       "\n",
       "    .dataframe thead th {\n",
       "        text-align: right;\n",
       "    }\n",
       "</style>\n",
       "<table border=\"1\" class=\"dataframe\">\n",
       "  <thead>\n",
       "    <tr style=\"text-align: right;\">\n",
       "      <th></th>\n",
       "      <th>High</th>\n",
       "      <th>Low</th>\n",
       "      <th>Open</th>\n",
       "      <th>Close</th>\n",
       "      <th>Volume</th>\n",
       "      <th>Adj Close</th>\n",
       "    </tr>\n",
       "    <tr>\n",
       "      <th>Date</th>\n",
       "      <th></th>\n",
       "      <th></th>\n",
       "      <th></th>\n",
       "      <th></th>\n",
       "      <th></th>\n",
       "      <th></th>\n",
       "    </tr>\n",
       "  </thead>\n",
       "  <tbody>\n",
       "    <tr>\n",
       "      <th>2020-05-11</th>\n",
       "      <td>2419.669922</td>\n",
       "      <td>2372.110107</td>\n",
       "      <td>2374.699951</td>\n",
       "      <td>2409.000000</td>\n",
       "      <td>3259200</td>\n",
       "      <td>2409.000000</td>\n",
       "    </tr>\n",
       "    <tr>\n",
       "      <th>2020-05-12</th>\n",
       "      <td>2419.000000</td>\n",
       "      <td>2355.000000</td>\n",
       "      <td>2411.850098</td>\n",
       "      <td>2356.949951</td>\n",
       "      <td>3074900</td>\n",
       "      <td>2356.949951</td>\n",
       "    </tr>\n",
       "    <tr>\n",
       "      <th>2020-05-13</th>\n",
       "      <td>2407.699951</td>\n",
       "      <td>2337.800049</td>\n",
       "      <td>2366.800049</td>\n",
       "      <td>2367.919922</td>\n",
       "      <td>4782900</td>\n",
       "      <td>2367.919922</td>\n",
       "    </tr>\n",
       "    <tr>\n",
       "      <th>2020-05-14</th>\n",
       "      <td>2391.370117</td>\n",
       "      <td>2353.209961</td>\n",
       "      <td>2361.010010</td>\n",
       "      <td>2388.850098</td>\n",
       "      <td>3648100</td>\n",
       "      <td>2388.850098</td>\n",
       "    </tr>\n",
       "    <tr>\n",
       "      <th>2020-05-15</th>\n",
       "      <td>2411.000000</td>\n",
       "      <td>2356.370117</td>\n",
       "      <td>2368.520020</td>\n",
       "      <td>2409.780029</td>\n",
       "      <td>4235000</td>\n",
       "      <td>2409.780029</td>\n",
       "    </tr>\n",
       "  </tbody>\n",
       "</table>\n",
       "</div>"
      ],
      "text/plain": [
       "                   High          Low         Open        Close   Volume  \\\n",
       "Date                                                                      \n",
       "2020-05-11  2419.669922  2372.110107  2374.699951  2409.000000  3259200   \n",
       "2020-05-12  2419.000000  2355.000000  2411.850098  2356.949951  3074900   \n",
       "2020-05-13  2407.699951  2337.800049  2366.800049  2367.919922  4782900   \n",
       "2020-05-14  2391.370117  2353.209961  2361.010010  2388.850098  3648100   \n",
       "2020-05-15  2411.000000  2356.370117  2368.520020  2409.780029  4235000   \n",
       "\n",
       "              Adj Close  \n",
       "Date                     \n",
       "2020-05-11  2409.000000  \n",
       "2020-05-12  2356.949951  \n",
       "2020-05-13  2367.919922  \n",
       "2020-05-14  2388.850098  \n",
       "2020-05-15  2409.780029  "
      ]
     },
     "execution_count": 27,
     "metadata": {},
     "output_type": "execute_result"
    }
   ],
   "source": [
    "df=AMZN\n",
    "df.head()"
   ]
  },
  {
   "cell_type": "code",
   "execution_count": 28,
   "id": "eb21dd3f",
   "metadata": {},
   "outputs": [
    {
     "data": {
      "text/html": [
       "<div>\n",
       "<style scoped>\n",
       "    .dataframe tbody tr th:only-of-type {\n",
       "        vertical-align: middle;\n",
       "    }\n",
       "\n",
       "    .dataframe tbody tr th {\n",
       "        vertical-align: top;\n",
       "    }\n",
       "\n",
       "    .dataframe thead th {\n",
       "        text-align: right;\n",
       "    }\n",
       "</style>\n",
       "<table border=\"1\" class=\"dataframe\">\n",
       "  <thead>\n",
       "    <tr style=\"text-align: right;\">\n",
       "      <th></th>\n",
       "      <th>Adj Close</th>\n",
       "      <th>Volume</th>\n",
       "      <th>HL_PCT</th>\n",
       "      <th>PCT_change</th>\n",
       "    </tr>\n",
       "    <tr>\n",
       "      <th>Date</th>\n",
       "      <th></th>\n",
       "      <th></th>\n",
       "      <th></th>\n",
       "      <th></th>\n",
       "    </tr>\n",
       "  </thead>\n",
       "  <tbody>\n",
       "    <tr>\n",
       "      <th>2021-05-03</th>\n",
       "      <td>3386.489990</td>\n",
       "      <td>5875500</td>\n",
       "      <td>3.364839</td>\n",
       "      <td>-2.819156</td>\n",
       "    </tr>\n",
       "    <tr>\n",
       "      <th>2021-05-04</th>\n",
       "      <td>3311.870117</td>\n",
       "      <td>5439400</td>\n",
       "      <td>2.894138</td>\n",
       "      <td>-1.320540</td>\n",
       "    </tr>\n",
       "    <tr>\n",
       "      <th>2021-05-05</th>\n",
       "      <td>3270.540039</td>\n",
       "      <td>3711300</td>\n",
       "      <td>2.762230</td>\n",
       "      <td>-2.046209</td>\n",
       "    </tr>\n",
       "    <tr>\n",
       "      <th>2021-05-06</th>\n",
       "      <td>3306.370117</td>\n",
       "      <td>4447700</td>\n",
       "      <td>2.032439</td>\n",
       "      <td>1.112236</td>\n",
       "    </tr>\n",
       "    <tr>\n",
       "      <th>2021-05-07</th>\n",
       "      <td>3291.610107</td>\n",
       "      <td>4706800</td>\n",
       "      <td>1.270498</td>\n",
       "      <td>-0.827937</td>\n",
       "    </tr>\n",
       "  </tbody>\n",
       "</table>\n",
       "</div>"
      ],
      "text/plain": [
       "              Adj Close   Volume    HL_PCT  PCT_change\n",
       "Date                                                  \n",
       "2021-05-03  3386.489990  5875500  3.364839   -2.819156\n",
       "2021-05-04  3311.870117  5439400  2.894138   -1.320540\n",
       "2021-05-05  3270.540039  3711300  2.762230   -2.046209\n",
       "2021-05-06  3306.370117  4447700  2.032439    1.112236\n",
       "2021-05-07  3291.610107  4706800  1.270498   -0.827937"
      ]
     },
     "execution_count": 28,
     "metadata": {},
     "output_type": "execute_result"
    }
   ],
   "source": [
    "dfreg = df.loc[:,['Adj Close','Volume']]\n",
    "dfreg['HL_PCT'] = (df['High'] - df['Low']) / df['Close'] * 100.0\n",
    "dfreg['PCT_change'] = (df['Close'] - df['Open']) / df['Open'] * 100.0\n",
    "dfreg.tail()"
   ]
  },
  {
   "cell_type": "code",
   "execution_count": 29,
   "id": "1015b3c4",
   "metadata": {},
   "outputs": [],
   "source": [
    "import math\n",
    "from sklearn import preprocessing\n",
    "\n",
    "# Drop missing value\n",
    "dfreg.fillna(value=-99999, inplace=True)\n",
    "# We want to separate 1 percent of the data to forecast\n",
    "forecast_out = int(math.ceil(0.01 * len(dfreg)))\n",
    "# Separating the label here, we want to predict the AdjClose\n",
    "forecast_col = 'Adj Close'\n",
    "dfreg['label'] = dfreg[forecast_col].shift(-forecast_out)\n",
    "X = np.array(dfreg.drop(['label'], 1))\n",
    "# Scale the X so that everyone can have the same distribution for linear regression\n",
    "X = preprocessing.scale(X)\n",
    "# Finally We want to find Data Series of late X and early X (train) for model generation and evaluation\n",
    "X_lately = X[-forecast_out:]\n",
    "X = X[:-forecast_out]\n",
    "# Separate label and identify it as y\n",
    "y = np.array(dfreg['label'])\n",
    "y = y[:-forecast_out]\n",
    "y_lately = y[-forecast_out:]"
   ]
  },
  {
   "cell_type": "code",
   "execution_count": 30,
   "id": "b50ab464",
   "metadata": {},
   "outputs": [
    {
     "data": {
      "text/plain": [
       "LinearRegression(n_jobs=-1)"
      ]
     },
     "execution_count": 30,
     "metadata": {},
     "output_type": "execute_result"
    }
   ],
   "source": [
    "X_train = X\n",
    "y_train = y\n",
    "\n",
    "# 1. Linear regression \n",
    "clfreg = LinearRegression(n_jobs=-1)\n",
    "clfreg.fit(X_train, y_train)"
   ]
  },
  {
   "cell_type": "code",
   "execution_count": 31,
   "id": "9af34d9c",
   "metadata": {},
   "outputs": [
    {
     "name": "stdout",
     "output_type": "stream",
     "text": [
      "confidencereg :  0.3514459866605043\n"
     ]
    }
   ],
   "source": [
    "X_test = X_lately\n",
    "y_test = y_lately\n",
    "\n",
    "confidence_reg = clfreg.score(X_test, y_test)\n",
    "\n",
    "print(\"confidencereg : \",confidence_reg)\n"
   ]
  },
  {
   "cell_type": "code",
   "execution_count": 32,
   "id": "4f409ba9",
   "metadata": {},
   "outputs": [],
   "source": [
    "dfreg_lr = dfreg.copy()\n",
    "dfreg_lasso = dfreg.copy()\n",
    "dfreg_ridge = dfreg.copy()\n",
    "dfreg_br = dfreg.copy()\n",
    "\n",
    "noOfDaysData = 100"
   ]
  },
  {
   "cell_type": "code",
   "execution_count": 33,
   "id": "090c4016",
   "metadata": {},
   "outputs": [
    {
     "name": "stdout",
     "output_type": "stream",
     "text": [
      "[3274.5183872  3286.61830878 3287.78287044]\n"
     ]
    }
   ],
   "source": [
    "forecast_set_linear_regression = clfreg.predict(X_lately)\n",
    "dfreg_lr['Forecast_linear_regression'] =  np.nan\n",
    "print(forecast_set_linear_regression)"
   ]
  },
  {
   "cell_type": "code",
   "execution_count": 34,
   "id": "b046ea2b",
   "metadata": {},
   "outputs": [
    {
     "data": {
      "image/png": "[encoded data removed]",
      "text/plain": [
       "<Figure size 432x288 with 1 Axes>"
      ]
     },
     "metadata": {
      "needs_background": "light"
     },
     "output_type": "display_data"
    }
   ],
   "source": [
    "last_date = dfreg_lr.iloc[-1].name\n",
    "last_unix = last_date\n",
    "next_unix = last_unix + datetime.timedelta(days=1)\n",
    "\n",
    "for i in forecast_set_linear_regression:\n",
    "    next_date = next_unix\n",
    "    next_unix += datetime.timedelta(days=1)\n",
    "    dfreg_lr.loc[next_date] = [np.nan for _ in range(len(dfreg_lr.columns)-1)]+[i]\n",
    "dfreg_lr['Adj Close'].tail(noOfDaysData).plot()\n",
    "dfreg_lr['Forecast_linear_regression'].tail(noOfDaysData).plot()\n",
    "plt.legend(loc=4)\n",
    "plt.xlabel('Date')\n",
    "plt.ylabel('Price')\n",
    "plt.show()"
   ]
  },
  {
   "cell_type": "code",
   "execution_count": 35,
   "id": "f66f3c04",
   "metadata": {},
   "outputs": [
    {
     "data": {
      "text/html": [
       "<div>\n",
       "<style scoped>\n",
       "    .dataframe tbody tr th:only-of-type {\n",
       "        vertical-align: middle;\n",
       "    }\n",
       "\n",
       "    .dataframe tbody tr th {\n",
       "        vertical-align: top;\n",
       "    }\n",
       "\n",
       "    .dataframe thead th {\n",
       "        text-align: right;\n",
       "    }\n",
       "</style>\n",
       "<table border=\"1\" class=\"dataframe\">\n",
       "  <thead>\n",
       "    <tr style=\"text-align: right;\">\n",
       "      <th></th>\n",
       "      <th>High</th>\n",
       "      <th>Low</th>\n",
       "      <th>Open</th>\n",
       "      <th>Close</th>\n",
       "      <th>Volume</th>\n",
       "      <th>Adj Close</th>\n",
       "    </tr>\n",
       "    <tr>\n",
       "      <th>Date</th>\n",
       "      <th></th>\n",
       "      <th></th>\n",
       "      <th></th>\n",
       "      <th></th>\n",
       "      <th></th>\n",
       "      <th></th>\n",
       "    </tr>\n",
       "  </thead>\n",
       "  <tbody>\n",
       "    <tr>\n",
       "      <th>2020-05-11</th>\n",
       "      <td>215.000000</td>\n",
       "      <td>210.369995</td>\n",
       "      <td>210.889999</td>\n",
       "      <td>213.179993</td>\n",
       "      <td>12911900</td>\n",
       "      <td>213.179993</td>\n",
       "    </tr>\n",
       "    <tr>\n",
       "      <th>2020-05-12</th>\n",
       "      <td>215.279999</td>\n",
       "      <td>210.000000</td>\n",
       "      <td>213.289993</td>\n",
       "      <td>210.100006</td>\n",
       "      <td>14704600</td>\n",
       "      <td>210.100006</td>\n",
       "    </tr>\n",
       "    <tr>\n",
       "      <th>2020-05-13</th>\n",
       "      <td>210.779999</td>\n",
       "      <td>202.110001</td>\n",
       "      <td>209.429993</td>\n",
       "      <td>205.100006</td>\n",
       "      <td>20684600</td>\n",
       "      <td>205.100006</td>\n",
       "    </tr>\n",
       "    <tr>\n",
       "      <th>2020-05-14</th>\n",
       "      <td>206.929993</td>\n",
       "      <td>200.690002</td>\n",
       "      <td>202.559998</td>\n",
       "      <td>206.809998</td>\n",
       "      <td>17178900</td>\n",
       "      <td>206.809998</td>\n",
       "    </tr>\n",
       "    <tr>\n",
       "      <th>2020-05-15</th>\n",
       "      <td>211.339996</td>\n",
       "      <td>204.119995</td>\n",
       "      <td>205.270004</td>\n",
       "      <td>210.880005</td>\n",
       "      <td>19383200</td>\n",
       "      <td>210.880005</td>\n",
       "    </tr>\n",
       "  </tbody>\n",
       "</table>\n",
       "</div>"
      ],
      "text/plain": [
       "                  High         Low        Open       Close    Volume  \\\n",
       "Date                                                                   \n",
       "2020-05-11  215.000000  210.369995  210.889999  213.179993  12911900   \n",
       "2020-05-12  215.279999  210.000000  213.289993  210.100006  14704600   \n",
       "2020-05-13  210.779999  202.110001  209.429993  205.100006  20684600   \n",
       "2020-05-14  206.929993  200.690002  202.559998  206.809998  17178900   \n",
       "2020-05-15  211.339996  204.119995  205.270004  210.880005  19383200   \n",
       "\n",
       "             Adj Close  \n",
       "Date                    \n",
       "2020-05-11  213.179993  \n",
       "2020-05-12  210.100006  \n",
       "2020-05-13  205.100006  \n",
       "2020-05-14  206.809998  \n",
       "2020-05-15  210.880005  "
      ]
     },
     "execution_count": 35,
     "metadata": {},
     "output_type": "execute_result"
    }
   ],
   "source": [
    "df=FB\n",
    "df.head()"
   ]
  },
  {
   "cell_type": "code",
   "execution_count": 36,
   "id": "d4db31aa",
   "metadata": {},
   "outputs": [
    {
     "data": {
      "text/html": [
       "<div>\n",
       "<style scoped>\n",
       "    .dataframe tbody tr th:only-of-type {\n",
       "        vertical-align: middle;\n",
       "    }\n",
       "\n",
       "    .dataframe tbody tr th {\n",
       "        vertical-align: top;\n",
       "    }\n",
       "\n",
       "    .dataframe thead th {\n",
       "        text-align: right;\n",
       "    }\n",
       "</style>\n",
       "<table border=\"1\" class=\"dataframe\">\n",
       "  <thead>\n",
       "    <tr style=\"text-align: right;\">\n",
       "      <th></th>\n",
       "      <th>Adj Close</th>\n",
       "      <th>Volume</th>\n",
       "      <th>HL_PCT</th>\n",
       "      <th>PCT_change</th>\n",
       "    </tr>\n",
       "    <tr>\n",
       "      <th>Date</th>\n",
       "      <th></th>\n",
       "      <th></th>\n",
       "      <th></th>\n",
       "      <th></th>\n",
       "    </tr>\n",
       "  </thead>\n",
       "  <tbody>\n",
       "    <tr>\n",
       "      <th>2021-05-03</th>\n",
       "      <td>322.579987</td>\n",
       "      <td>18719500</td>\n",
       "      <td>2.080102</td>\n",
       "      <td>-1.100661</td>\n",
       "    </tr>\n",
       "    <tr>\n",
       "      <th>2021-05-04</th>\n",
       "      <td>318.359985</td>\n",
       "      <td>24032600</td>\n",
       "      <td>2.848978</td>\n",
       "      <td>-0.518719</td>\n",
       "    </tr>\n",
       "    <tr>\n",
       "      <th>2021-05-05</th>\n",
       "      <td>315.019989</td>\n",
       "      <td>15577600</td>\n",
       "      <td>2.085584</td>\n",
       "      <td>-0.996264</td>\n",
       "    </tr>\n",
       "    <tr>\n",
       "      <th>2021-05-06</th>\n",
       "      <td>320.019989</td>\n",
       "      <td>19012200</td>\n",
       "      <td>2.177989</td>\n",
       "      <td>1.748696</td>\n",
       "    </tr>\n",
       "    <tr>\n",
       "      <th>2021-05-07</th>\n",
       "      <td>319.079987</td>\n",
       "      <td>15912800</td>\n",
       "      <td>1.313151</td>\n",
       "      <td>-1.023642</td>\n",
       "    </tr>\n",
       "  </tbody>\n",
       "</table>\n",
       "</div>"
      ],
      "text/plain": [
       "             Adj Close    Volume    HL_PCT  PCT_change\n",
       "Date                                                  \n",
       "2021-05-03  322.579987  18719500  2.080102   -1.100661\n",
       "2021-05-04  318.359985  24032600  2.848978   -0.518719\n",
       "2021-05-05  315.019989  15577600  2.085584   -0.996264\n",
       "2021-05-06  320.019989  19012200  2.177989    1.748696\n",
       "2021-05-07  319.079987  15912800  1.313151   -1.023642"
      ]
     },
     "execution_count": 36,
     "metadata": {},
     "output_type": "execute_result"
    }
   ],
   "source": [
    "dfreg = df.loc[:,['Adj Close','Volume']]\n",
    "dfreg['HL_PCT'] = (df['High'] - df['Low']) / df['Close'] * 100.0\n",
    "dfreg['PCT_change'] = (df['Close'] - df['Open']) / df['Open'] * 100.0\n",
    "dfreg.tail()"
   ]
  },
  {
   "cell_type": "code",
   "execution_count": 37,
   "id": "41d1a517",
   "metadata": {},
   "outputs": [],
   "source": [
    "import math\n",
    "from sklearn import preprocessing\n",
    "\n",
    "# Drop missing value\n",
    "dfreg.fillna(value=-99999, inplace=True)\n",
    "# We want to separate 1 percent of the data to forecast\n",
    "forecast_out = int(math.ceil(0.01 * len(dfreg)))\n",
    "# Separating the label here, we want to predict the AdjClose\n",
    "forecast_col = 'Adj Close'\n",
    "dfreg['label'] = dfreg[forecast_col].shift(-forecast_out)\n",
    "X = np.array(dfreg.drop(['label'], 1))\n",
    "# Scale the X so that everyone can have the same distribution for linear regression\n",
    "X = preprocessing.scale(X)\n",
    "# Finally We want to find Data Series of late X and early X (train) for model generation and evaluation\n",
    "X_lately = X[-forecast_out:]\n",
    "X = X[:-forecast_out]\n",
    "# Separate label and identify it as y\n",
    "y = np.array(dfreg['label'])\n",
    "y = y[:-forecast_out]\n",
    "y_lately = y[-forecast_out:]"
   ]
  },
  {
   "cell_type": "code",
   "execution_count": 38,
   "id": "d2dc97f0",
   "metadata": {},
   "outputs": [
    {
     "data": {
      "text/plain": [
       "LinearRegression(n_jobs=-1)"
      ]
     },
     "execution_count": 38,
     "metadata": {},
     "output_type": "execute_result"
    }
   ],
   "source": [
    "X_train = X\n",
    "y_train = y\n",
    "\n",
    "# 1. Linear regression \n",
    "clfreg = LinearRegression(n_jobs=-1)\n",
    "clfreg.fit(X_train, y_train)"
   ]
  },
  {
   "cell_type": "code",
   "execution_count": 39,
   "id": "21640f7a",
   "metadata": {},
   "outputs": [
    {
     "name": "stdout",
     "output_type": "stream",
     "text": [
      "confidencereg :  -1.6992379668928206\n"
     ]
    }
   ],
   "source": [
    "X_test = X_lately\n",
    "y_test = y_lately\n",
    "\n",
    "confidence_reg = clfreg.score(X_test, y_test)\n",
    "\n",
    "print(\"confidencereg : \",confidence_reg)\n"
   ]
  },
  {
   "cell_type": "code",
   "execution_count": 40,
   "id": "32830f78",
   "metadata": {},
   "outputs": [],
   "source": [
    "dfreg_lr = dfreg.copy()\n",
    "dfreg_lasso = dfreg.copy()\n",
    "dfreg_ridge = dfreg.copy()\n",
    "dfreg_br = dfreg.copy()\n",
    "\n",
    "noOfDaysData = 100"
   ]
  },
  {
   "cell_type": "code",
   "execution_count": 41,
   "id": "94e8258f",
   "metadata": {},
   "outputs": [
    {
     "name": "stdout",
     "output_type": "stream",
     "text": [
      "[312.41234349 314.95811475 316.69308099]\n"
     ]
    }
   ],
   "source": [
    "forecast_set_linear_regression = clfreg.predict(X_lately)\n",
    "dfreg_lr['Forecast_linear_regression'] =  np.nan\n",
    "print(forecast_set_linear_regression)"
   ]
  },
  {
   "cell_type": "code",
   "execution_count": 42,
   "id": "4215c895",
   "metadata": {},
   "outputs": [
    {
     "data": {
      "image/png": "[encoded data removed]",
      "text/plain": [
       "<Figure size 432x288 with 1 Axes>"
      ]
     },
     "metadata": {
      "needs_background": "light"
     },
     "output_type": "display_data"
    }
   ],
   "source": [
    "last_date = dfreg_lr.iloc[-1].name\n",
    "last_unix = last_date\n",
    "next_unix = last_unix + datetime.timedelta(days=1)\n",
    "\n",
    "for i in forecast_set_linear_regression:\n",
    "    next_date = next_unix\n",
    "    next_unix += datetime.timedelta(days=1)\n",
    "    dfreg_lr.loc[next_date] = [np.nan for _ in range(len(dfreg_lr.columns)-1)]+[i]\n",
    "dfreg_lr['Adj Close'].tail(noOfDaysData).plot()\n",
    "dfreg_lr['Forecast_linear_regression'].tail(noOfDaysData).plot()\n",
    "plt.legend(loc=4)\n",
    "plt.xlabel('Date')\n",
    "plt.ylabel('Price')\n",
    "plt.show()"
   ]
  },
  {
   "cell_type": "code",
   "execution_count": 43,
   "id": "744ee267",
   "metadata": {},
   "outputs": [
    {
     "data": {
      "text/html": [
       "<div>\n",
       "<style scoped>\n",
       "    .dataframe tbody tr th:only-of-type {\n",
       "        vertical-align: middle;\n",
       "    }\n",
       "\n",
       "    .dataframe tbody tr th {\n",
       "        vertical-align: top;\n",
       "    }\n",
       "\n",
       "    .dataframe thead th {\n",
       "        text-align: right;\n",
       "    }\n",
       "</style>\n",
       "<table border=\"1\" class=\"dataframe\">\n",
       "  <thead>\n",
       "    <tr style=\"text-align: right;\">\n",
       "      <th></th>\n",
       "      <th>High</th>\n",
       "      <th>Low</th>\n",
       "      <th>Open</th>\n",
       "      <th>Close</th>\n",
       "      <th>Volume</th>\n",
       "      <th>Adj Close</th>\n",
       "    </tr>\n",
       "    <tr>\n",
       "      <th>Date</th>\n",
       "      <th></th>\n",
       "      <th></th>\n",
       "      <th></th>\n",
       "      <th></th>\n",
       "      <th></th>\n",
       "      <th></th>\n",
       "    </tr>\n",
       "  </thead>\n",
       "  <tbody>\n",
       "    <tr>\n",
       "      <th>2020-05-11</th>\n",
       "      <td>1416.530029</td>\n",
       "      <td>1377.151978</td>\n",
       "      <td>1378.280029</td>\n",
       "      <td>1403.260010</td>\n",
       "      <td>1412100</td>\n",
       "      <td>1403.260010</td>\n",
       "    </tr>\n",
       "    <tr>\n",
       "      <th>2020-05-12</th>\n",
       "      <td>1415.000000</td>\n",
       "      <td>1374.770020</td>\n",
       "      <td>1407.119995</td>\n",
       "      <td>1375.739990</td>\n",
       "      <td>1390600</td>\n",
       "      <td>1375.739990</td>\n",
       "    </tr>\n",
       "    <tr>\n",
       "      <th>2020-05-13</th>\n",
       "      <td>1385.482056</td>\n",
       "      <td>1328.400024</td>\n",
       "      <td>1377.050049</td>\n",
       "      <td>1349.329956</td>\n",
       "      <td>1812600</td>\n",
       "      <td>1349.329956</td>\n",
       "    </tr>\n",
       "    <tr>\n",
       "      <th>2020-05-14</th>\n",
       "      <td>1357.420044</td>\n",
       "      <td>1323.910034</td>\n",
       "      <td>1335.020020</td>\n",
       "      <td>1356.130005</td>\n",
       "      <td>1603100</td>\n",
       "      <td>1356.130005</td>\n",
       "    </tr>\n",
       "    <tr>\n",
       "      <th>2020-05-15</th>\n",
       "      <td>1374.479980</td>\n",
       "      <td>1339.000000</td>\n",
       "      <td>1350.000000</td>\n",
       "      <td>1373.189941</td>\n",
       "      <td>1707700</td>\n",
       "      <td>1373.189941</td>\n",
       "    </tr>\n",
       "  </tbody>\n",
       "</table>\n",
       "</div>"
      ],
      "text/plain": [
       "                   High          Low         Open        Close   Volume  \\\n",
       "Date                                                                      \n",
       "2020-05-11  1416.530029  1377.151978  1378.280029  1403.260010  1412100   \n",
       "2020-05-12  1415.000000  1374.770020  1407.119995  1375.739990  1390600   \n",
       "2020-05-13  1385.482056  1328.400024  1377.050049  1349.329956  1812600   \n",
       "2020-05-14  1357.420044  1323.910034  1335.020020  1356.130005  1603100   \n",
       "2020-05-15  1374.479980  1339.000000  1350.000000  1373.189941  1707700   \n",
       "\n",
       "              Adj Close  \n",
       "Date                     \n",
       "2020-05-11  1403.260010  \n",
       "2020-05-12  1375.739990  \n",
       "2020-05-13  1349.329956  \n",
       "2020-05-14  1356.130005  \n",
       "2020-05-15  1373.189941  "
      ]
     },
     "execution_count": 43,
     "metadata": {},
     "output_type": "execute_result"
    }
   ],
   "source": [
    "df=GOOG\n",
    "df.head()"
   ]
  },
  {
   "cell_type": "code",
   "execution_count": 44,
   "id": "8ea37ded",
   "metadata": {},
   "outputs": [
    {
     "data": {
      "text/html": [
       "<div>\n",
       "<style scoped>\n",
       "    .dataframe tbody tr th:only-of-type {\n",
       "        vertical-align: middle;\n",
       "    }\n",
       "\n",
       "    .dataframe tbody tr th {\n",
       "        vertical-align: top;\n",
       "    }\n",
       "\n",
       "    .dataframe thead th {\n",
       "        text-align: right;\n",
       "    }\n",
       "</style>\n",
       "<table border=\"1\" class=\"dataframe\">\n",
       "  <thead>\n",
       "    <tr style=\"text-align: right;\">\n",
       "      <th></th>\n",
       "      <th>Adj Close</th>\n",
       "      <th>Volume</th>\n",
       "      <th>HL_PCT</th>\n",
       "      <th>PCT_change</th>\n",
       "    </tr>\n",
       "    <tr>\n",
       "      <th>Date</th>\n",
       "      <th></th>\n",
       "      <th></th>\n",
       "      <th></th>\n",
       "      <th></th>\n",
       "    </tr>\n",
       "  </thead>\n",
       "  <tbody>\n",
       "    <tr>\n",
       "      <th>2021-05-03</th>\n",
       "      <td>2395.169922</td>\n",
       "      <td>1689400</td>\n",
       "      <td>1.469622</td>\n",
       "      <td>-0.314229</td>\n",
       "    </tr>\n",
       "    <tr>\n",
       "      <th>2021-05-04</th>\n",
       "      <td>2354.250000</td>\n",
       "      <td>1756000</td>\n",
       "      <td>2.869706</td>\n",
       "      <td>-0.653658</td>\n",
       "    </tr>\n",
       "    <tr>\n",
       "      <th>2021-05-05</th>\n",
       "      <td>2356.739990</td>\n",
       "      <td>1090300</td>\n",
       "      <td>1.306467</td>\n",
       "      <td>-0.493153</td>\n",
       "    </tr>\n",
       "    <tr>\n",
       "      <th>2021-05-06</th>\n",
       "      <td>2381.350098</td>\n",
       "      <td>1030900</td>\n",
       "      <td>1.695344</td>\n",
       "      <td>1.306461</td>\n",
       "    </tr>\n",
       "    <tr>\n",
       "      <th>2021-05-07</th>\n",
       "      <td>2398.689941</td>\n",
       "      <td>1163600</td>\n",
       "      <td>1.101014</td>\n",
       "      <td>-0.054586</td>\n",
       "    </tr>\n",
       "  </tbody>\n",
       "</table>\n",
       "</div>"
      ],
      "text/plain": [
       "              Adj Close   Volume    HL_PCT  PCT_change\n",
       "Date                                                  \n",
       "2021-05-03  2395.169922  1689400  1.469622   -0.314229\n",
       "2021-05-04  2354.250000  1756000  2.869706   -0.653658\n",
       "2021-05-05  2356.739990  1090300  1.306467   -0.493153\n",
       "2021-05-06  2381.350098  1030900  1.695344    1.306461\n",
       "2021-05-07  2398.689941  1163600  1.101014   -0.054586"
      ]
     },
     "execution_count": 44,
     "metadata": {},
     "output_type": "execute_result"
    }
   ],
   "source": [
    "dfreg = df.loc[:,['Adj Close','Volume']]\n",
    "dfreg['HL_PCT'] = (df['High'] - df['Low']) / df['Close'] * 100.0\n",
    "dfreg['PCT_change'] = (df['Close'] - df['Open']) / df['Open'] * 100.0\n",
    "dfreg.tail()"
   ]
  },
  {
   "cell_type": "code",
   "execution_count": 45,
   "id": "ac5988fd",
   "metadata": {},
   "outputs": [],
   "source": [
    "import math\n",
    "from sklearn import preprocessing\n",
    "\n",
    "# Drop missing value\n",
    "dfreg.fillna(value=-99999, inplace=True)\n",
    "# We want to separate 1 percent of the data to forecast\n",
    "forecast_out = int(math.ceil(0.01 * len(dfreg)))\n",
    "# Separating the label here, we want to predict the AdjClose\n",
    "forecast_col = 'Adj Close'\n",
    "dfreg['label'] = dfreg[forecast_col].shift(-forecast_out)\n",
    "X = np.array(dfreg.drop(['label'], 1))\n",
    "# Scale the X so that everyone can have the same distribution for linear regression\n",
    "X = preprocessing.scale(X)\n",
    "# Finally We want to find Data Series of late X and early X (train) for model generation and evaluation\n",
    "X_lately = X[-forecast_out:]\n",
    "X = X[:-forecast_out]\n",
    "# Separate label and identify it as y\n",
    "y = np.array(dfreg['label'])\n",
    "y = y[:-forecast_out]\n",
    "y_lately = y[-forecast_out:]"
   ]
  },
  {
   "cell_type": "code",
   "execution_count": 46,
   "id": "b03fe0b1",
   "metadata": {},
   "outputs": [
    {
     "data": {
      "text/plain": [
       "LinearRegression(n_jobs=-1)"
      ]
     },
     "execution_count": 46,
     "metadata": {},
     "output_type": "execute_result"
    }
   ],
   "source": [
    "X_train = X\n",
    "y_train = y\n",
    "\n",
    "# 1. Linear regression \n",
    "clfreg = LinearRegression(n_jobs=-1)\n",
    "clfreg.fit(X_train, y_train)"
   ]
  },
  {
   "cell_type": "code",
   "execution_count": 47,
   "id": "878e10e8",
   "metadata": {},
   "outputs": [
    {
     "name": "stdout",
     "output_type": "stream",
     "text": [
      "confidencereg :  0.38821618539514435\n"
     ]
    }
   ],
   "source": [
    "X_test = X_lately\n",
    "y_test = y_lately\n",
    "\n",
    "confidence_reg = clfreg.score(X_test, y_test)\n",
    "\n",
    "print(\"confidencereg : \",confidence_reg)\n"
   ]
  },
  {
   "cell_type": "code",
   "execution_count": 48,
   "id": "3e159c83",
   "metadata": {},
   "outputs": [],
   "source": [
    "dfreg_lr = dfreg.copy()\n",
    "dfreg_lasso = dfreg.copy()\n",
    "dfreg_ridge = dfreg.copy()\n",
    "dfreg_br = dfreg.copy()\n",
    "\n",
    "noOfDaysData = 100"
   ]
  },
  {
   "cell_type": "code",
   "execution_count": 49,
   "id": "1d509cd2",
   "metadata": {},
   "outputs": [
    {
     "name": "stdout",
     "output_type": "stream",
     "text": [
      "[2372.61961809 2390.85262681 2412.87574175]\n"
     ]
    }
   ],
   "source": [
    "forecast_set_linear_regression = clfreg.predict(X_lately)\n",
    "dfreg_lr['Forecast_linear_regression'] =  np.nan\n",
    "print(forecast_set_linear_regression)"
   ]
  },
  {
   "cell_type": "code",
   "execution_count": 50,
   "id": "e5839ead",
   "metadata": {},
   "outputs": [
    {
     "data": {
      "image/png": "[encoded data removed]",
      "text/plain": [
       "<Figure size 432x288 with 1 Axes>"
      ]
     },
     "metadata": {
      "needs_background": "light"
     },
     "output_type": "display_data"
    }
   ],
   "source": [
    "last_date = dfreg_lr.iloc[-1].name\n",
    "last_unix = last_date\n",
    "next_unix = last_unix + datetime.timedelta(days=1)\n",
    "\n",
    "for i in forecast_set_linear_regression:\n",
    "    next_date = next_unix\n",
    "    next_unix += datetime.timedelta(days=1)\n",
    "    dfreg_lr.loc[next_date] = [np.nan for _ in range(len(dfreg_lr.columns)-1)]+[i]\n",
    "dfreg_lr['Adj Close'].tail(noOfDaysData).plot()\n",
    "dfreg_lr['Forecast_linear_regression'].tail(noOfDaysData).plot()\n",
    "plt.legend(loc=4)\n",
    "plt.xlabel('Date')\n",
    "plt.ylabel('Price')\n",
    "plt.show()"
   ]
  },
  {
   "cell_type": "code",
   "execution_count": 51,
   "id": "7d24568c",
   "metadata": {},
   "outputs": [
    {
     "data": {
      "text/html": [
       "<div>\n",
       "<style scoped>\n",
       "    .dataframe tbody tr th:only-of-type {\n",
       "        vertical-align: middle;\n",
       "    }\n",
       "\n",
       "    .dataframe tbody tr th {\n",
       "        vertical-align: top;\n",
       "    }\n",
       "\n",
       "    .dataframe thead th {\n",
       "        text-align: right;\n",
       "    }\n",
       "</style>\n",
       "<table border=\"1\" class=\"dataframe\">\n",
       "  <thead>\n",
       "    <tr style=\"text-align: right;\">\n",
       "      <th></th>\n",
       "      <th>High</th>\n",
       "      <th>Low</th>\n",
       "      <th>Open</th>\n",
       "      <th>Close</th>\n",
       "      <th>Volume</th>\n",
       "      <th>Adj Close</th>\n",
       "    </tr>\n",
       "    <tr>\n",
       "      <th>Date</th>\n",
       "      <th></th>\n",
       "      <th></th>\n",
       "      <th></th>\n",
       "      <th></th>\n",
       "      <th></th>\n",
       "      <th></th>\n",
       "    </tr>\n",
       "  </thead>\n",
       "  <tbody>\n",
       "    <tr>\n",
       "      <th>2020-05-11</th>\n",
       "      <td>444.890015</td>\n",
       "      <td>435.559998</td>\n",
       "      <td>436.329987</td>\n",
       "      <td>440.519989</td>\n",
       "      <td>5486000</td>\n",
       "      <td>440.519989</td>\n",
       "    </tr>\n",
       "    <tr>\n",
       "      <th>2020-05-12</th>\n",
       "      <td>444.170013</td>\n",
       "      <td>431.359985</td>\n",
       "      <td>442.000000</td>\n",
       "      <td>431.820007</td>\n",
       "      <td>4598200</td>\n",
       "      <td>431.820007</td>\n",
       "    </tr>\n",
       "    <tr>\n",
       "      <th>2020-05-13</th>\n",
       "      <td>447.000000</td>\n",
       "      <td>427.269989</td>\n",
       "      <td>435.690002</td>\n",
       "      <td>438.269989</td>\n",
       "      <td>7014600</td>\n",
       "      <td>438.269989</td>\n",
       "    </tr>\n",
       "    <tr>\n",
       "      <th>2020-05-14</th>\n",
       "      <td>452.380005</td>\n",
       "      <td>432.820007</td>\n",
       "      <td>444.899994</td>\n",
       "      <td>441.950012</td>\n",
       "      <td>9007500</td>\n",
       "      <td>441.950012</td>\n",
       "    </tr>\n",
       "    <tr>\n",
       "      <th>2020-05-15</th>\n",
       "      <td>455.000000</td>\n",
       "      <td>437.510010</td>\n",
       "      <td>440.700012</td>\n",
       "      <td>454.190002</td>\n",
       "      <td>7244000</td>\n",
       "      <td>454.190002</td>\n",
       "    </tr>\n",
       "  </tbody>\n",
       "</table>\n",
       "</div>"
      ],
      "text/plain": [
       "                  High         Low        Open       Close   Volume  \\\n",
       "Date                                                                  \n",
       "2020-05-11  444.890015  435.559998  436.329987  440.519989  5486000   \n",
       "2020-05-12  444.170013  431.359985  442.000000  431.820007  4598200   \n",
       "2020-05-13  447.000000  427.269989  435.690002  438.269989  7014600   \n",
       "2020-05-14  452.380005  432.820007  444.899994  441.950012  9007500   \n",
       "2020-05-15  455.000000  437.510010  440.700012  454.190002  7244000   \n",
       "\n",
       "             Adj Close  \n",
       "Date                    \n",
       "2020-05-11  440.519989  \n",
       "2020-05-12  431.820007  \n",
       "2020-05-13  438.269989  \n",
       "2020-05-14  441.950012  \n",
       "2020-05-15  454.190002  "
      ]
     },
     "execution_count": 51,
     "metadata": {},
     "output_type": "execute_result"
    }
   ],
   "source": [
    "df=NFLX\n",
    "df.head()"
   ]
  },
  {
   "cell_type": "code",
   "execution_count": 52,
   "id": "f319f0dd",
   "metadata": {},
   "outputs": [
    {
     "data": {
      "text/html": [
       "<div>\n",
       "<style scoped>\n",
       "    .dataframe tbody tr th:only-of-type {\n",
       "        vertical-align: middle;\n",
       "    }\n",
       "\n",
       "    .dataframe tbody tr th {\n",
       "        vertical-align: top;\n",
       "    }\n",
       "\n",
       "    .dataframe thead th {\n",
       "        text-align: right;\n",
       "    }\n",
       "</style>\n",
       "<table border=\"1\" class=\"dataframe\">\n",
       "  <thead>\n",
       "    <tr style=\"text-align: right;\">\n",
       "      <th></th>\n",
       "      <th>Adj Close</th>\n",
       "      <th>Volume</th>\n",
       "      <th>HL_PCT</th>\n",
       "      <th>PCT_change</th>\n",
       "    </tr>\n",
       "    <tr>\n",
       "      <th>Date</th>\n",
       "      <th></th>\n",
       "      <th></th>\n",
       "      <th></th>\n",
       "      <th></th>\n",
       "    </tr>\n",
       "  </thead>\n",
       "  <tbody>\n",
       "    <tr>\n",
       "      <th>2021-05-03</th>\n",
       "      <td>509.109985</td>\n",
       "      <td>4091900</td>\n",
       "      <td>2.700792</td>\n",
       "      <td>-0.690537</td>\n",
       "    </tr>\n",
       "    <tr>\n",
       "      <th>2021-05-04</th>\n",
       "      <td>503.179993</td>\n",
       "      <td>4349500</td>\n",
       "      <td>2.949242</td>\n",
       "      <td>-1.487922</td>\n",
       "    </tr>\n",
       "    <tr>\n",
       "      <th>2021-05-05</th>\n",
       "      <td>496.079987</td>\n",
       "      <td>3129400</td>\n",
       "      <td>2.650781</td>\n",
       "      <td>-1.764392</td>\n",
       "    </tr>\n",
       "    <tr>\n",
       "      <th>2021-05-06</th>\n",
       "      <td>499.549988</td>\n",
       "      <td>3783700</td>\n",
       "      <td>1.637472</td>\n",
       "      <td>0.717756</td>\n",
       "    </tr>\n",
       "    <tr>\n",
       "      <th>2021-05-07</th>\n",
       "      <td>503.839996</td>\n",
       "      <td>3131100</td>\n",
       "      <td>1.474673</td>\n",
       "      <td>-0.154572</td>\n",
       "    </tr>\n",
       "  </tbody>\n",
       "</table>\n",
       "</div>"
      ],
      "text/plain": [
       "             Adj Close   Volume    HL_PCT  PCT_change\n",
       "Date                                                 \n",
       "2021-05-03  509.109985  4091900  2.700792   -0.690537\n",
       "2021-05-04  503.179993  4349500  2.949242   -1.487922\n",
       "2021-05-05  496.079987  3129400  2.650781   -1.764392\n",
       "2021-05-06  499.549988  3783700  1.637472    0.717756\n",
       "2021-05-07  503.839996  3131100  1.474673   -0.154572"
      ]
     },
     "execution_count": 52,
     "metadata": {},
     "output_type": "execute_result"
    }
   ],
   "source": [
    "dfreg = df.loc[:,['Adj Close','Volume']]\n",
    "dfreg['HL_PCT'] = (df['High'] - df['Low']) / df['Close'] * 100.0\n",
    "dfreg['PCT_change'] = (df['Close'] - df['Open']) / df['Open'] * 100.0\n",
    "dfreg.tail()"
   ]
  },
  {
   "cell_type": "code",
   "execution_count": 53,
   "id": "a4af0d09",
   "metadata": {},
   "outputs": [],
   "source": [
    "import math\n",
    "from sklearn import preprocessing\n",
    "\n",
    "# Drop missing value\n",
    "dfreg.fillna(value=-99999, inplace=True)\n",
    "# We want to separate 1 percent of the data to forecast\n",
    "forecast_out = int(math.ceil(0.01 * len(dfreg)))\n",
    "# Separating the label here, we want to predict the AdjClose\n",
    "forecast_col = 'Adj Close'\n",
    "dfreg['label'] = dfreg[forecast_col].shift(-forecast_out)\n",
    "X = np.array(dfreg.drop(['label'], 1))\n",
    "# Scale the X so that everyone can have the same distribution for linear regression\n",
    "X = preprocessing.scale(X)\n",
    "# Finally We want to find Data Series of late X and early X (train) for model generation and evaluation\n",
    "X_lately = X[-forecast_out:]\n",
    "X = X[:-forecast_out]\n",
    "# Separate label and identify it as y\n",
    "y = np.array(dfreg['label'])\n",
    "y = y[:-forecast_out]\n",
    "y_lately = y[-forecast_out:]"
   ]
  },
  {
   "cell_type": "code",
   "execution_count": 54,
   "id": "273cfa89",
   "metadata": {},
   "outputs": [
    {
     "data": {
      "text/plain": [
       "LinearRegression(n_jobs=-1)"
      ]
     },
     "execution_count": 54,
     "metadata": {},
     "output_type": "execute_result"
    }
   ],
   "source": [
    "X_train = X\n",
    "y_train = y\n",
    "\n",
    "# 1. Linear regression \n",
    "clfreg = LinearRegression(n_jobs=-1)\n",
    "clfreg.fit(X_train, y_train)"
   ]
  },
  {
   "cell_type": "code",
   "execution_count": 55,
   "id": "95430442",
   "metadata": {},
   "outputs": [
    {
     "name": "stdout",
     "output_type": "stream",
     "text": [
      "confidencereg :  -1.0137590158874885\n"
     ]
    }
   ],
   "source": [
    "X_test = X_lately\n",
    "y_test = y_lately\n",
    "\n",
    "confidence_reg = clfreg.score(X_test, y_test)\n",
    "\n",
    "print(\"confidencereg : \",confidence_reg)"
   ]
  },
  {
   "cell_type": "code",
   "execution_count": 56,
   "id": "a51ccc8b",
   "metadata": {},
   "outputs": [],
   "source": [
    "dfreg_lr = dfreg.copy()\n",
    "dfreg_lasso = dfreg.copy()\n",
    "dfreg_ridge = dfreg.copy()\n",
    "dfreg_br = dfreg.copy()\n",
    "\n",
    "noOfDaysData = 100"
   ]
  },
  {
   "cell_type": "code",
   "execution_count": 57,
   "id": "be4aadff",
   "metadata": {},
   "outputs": [
    {
     "name": "stdout",
     "output_type": "stream",
     "text": [
      "[502.48886991 502.18577328 507.42280928]\n"
     ]
    }
   ],
   "source": [
    "forecast_set_linear_regression = clfreg.predict(X_lately)\n",
    "dfreg_lr['Forecast_linear_regression'] =  np.nan\n",
    "print(forecast_set_linear_regression)"
   ]
  },
  {
   "cell_type": "code",
   "execution_count": 58,
   "id": "58b367f9",
   "metadata": {},
   "outputs": [
    {
     "data": {
      "image/png": "[encoded data removed]",
      "text/plain": [
       "<Figure size 432x288 with 1 Axes>"
      ]
     },
     "metadata": {
      "needs_background": "light"
     },
     "output_type": "display_data"
    }
   ],
   "source": [
    "last_date = dfreg_lr.iloc[-1].name\n",
    "last_unix = last_date\n",
    "next_unix = last_unix + datetime.timedelta(days=1)\n",
    "\n",
    "for i in forecast_set_linear_regression:\n",
    "    next_date = next_unix\n",
    "    next_unix += datetime.timedelta(days=1)\n",
    "    dfreg_lr.loc[next_date] = [np.nan for _ in range(len(dfreg_lr.columns)-1)]+[i]\n",
    "dfreg_lr['Adj Close'].tail(noOfDaysData).plot()\n",
    "dfreg_lr['Forecast_linear_regression'].tail(noOfDaysData).plot()\n",
    "plt.legend(loc=4)\n",
    "plt.xlabel('Date')\n",
    "plt.ylabel('Price')\n",
    "plt.show()"
   ]
  },
  {
   "cell_type": "code",
   "execution_count": 59,
   "id": "c19477b9",
   "metadata": {},
   "outputs": [
    {
     "data": {
      "text/html": [
       "<div>\n",
       "<style scoped>\n",
       "    .dataframe tbody tr th:only-of-type {\n",
       "        vertical-align: middle;\n",
       "    }\n",
       "\n",
       "    .dataframe tbody tr th {\n",
       "        vertical-align: top;\n",
       "    }\n",
       "\n",
       "    .dataframe thead th {\n",
       "        text-align: right;\n",
       "    }\n",
       "</style>\n",
       "<table border=\"1\" class=\"dataframe\">\n",
       "  <thead>\n",
       "    <tr style=\"text-align: right;\">\n",
       "      <th></th>\n",
       "      <th>High</th>\n",
       "      <th>Low</th>\n",
       "      <th>Open</th>\n",
       "      <th>Close</th>\n",
       "      <th>Volume</th>\n",
       "      <th>Adj Close</th>\n",
       "    </tr>\n",
       "    <tr>\n",
       "      <th>Date</th>\n",
       "      <th></th>\n",
       "      <th></th>\n",
       "      <th></th>\n",
       "      <th></th>\n",
       "      <th></th>\n",
       "      <th></th>\n",
       "    </tr>\n",
       "  </thead>\n",
       "  <tbody>\n",
       "    <tr>\n",
       "      <th>2020-05-11</th>\n",
       "      <td>164.800003</td>\n",
       "      <td>157.000000</td>\n",
       "      <td>158.102005</td>\n",
       "      <td>162.257996</td>\n",
       "      <td>82598000.0</td>\n",
       "      <td>162.257996</td>\n",
       "    </tr>\n",
       "    <tr>\n",
       "      <th>2020-05-12</th>\n",
       "      <td>168.658005</td>\n",
       "      <td>161.600006</td>\n",
       "      <td>165.399994</td>\n",
       "      <td>161.882004</td>\n",
       "      <td>79534500.0</td>\n",
       "      <td>161.882004</td>\n",
       "    </tr>\n",
       "    <tr>\n",
       "      <th>2020-05-13</th>\n",
       "      <td>165.199997</td>\n",
       "      <td>152.660004</td>\n",
       "      <td>164.166000</td>\n",
       "      <td>158.192001</td>\n",
       "      <td>95327500.0</td>\n",
       "      <td>158.192001</td>\n",
       "    </tr>\n",
       "    <tr>\n",
       "      <th>2020-05-14</th>\n",
       "      <td>160.671997</td>\n",
       "      <td>152.800003</td>\n",
       "      <td>156.000000</td>\n",
       "      <td>160.666000</td>\n",
       "      <td>68411000.0</td>\n",
       "      <td>160.666000</td>\n",
       "    </tr>\n",
       "    <tr>\n",
       "      <th>2020-05-15</th>\n",
       "      <td>161.009995</td>\n",
       "      <td>157.309998</td>\n",
       "      <td>158.070007</td>\n",
       "      <td>159.834000</td>\n",
       "      <td>52592000.0</td>\n",
       "      <td>159.834000</td>\n",
       "    </tr>\n",
       "  </tbody>\n",
       "</table>\n",
       "</div>"
      ],
      "text/plain": [
       "                  High         Low        Open       Close      Volume  \\\n",
       "Date                                                                     \n",
       "2020-05-11  164.800003  157.000000  158.102005  162.257996  82598000.0   \n",
       "2020-05-12  168.658005  161.600006  165.399994  161.882004  79534500.0   \n",
       "2020-05-13  165.199997  152.660004  164.166000  158.192001  95327500.0   \n",
       "2020-05-14  160.671997  152.800003  156.000000  160.666000  68411000.0   \n",
       "2020-05-15  161.009995  157.309998  158.070007  159.834000  52592000.0   \n",
       "\n",
       "             Adj Close  \n",
       "Date                    \n",
       "2020-05-11  162.257996  \n",
       "2020-05-12  161.882004  \n",
       "2020-05-13  158.192001  \n",
       "2020-05-14  160.666000  \n",
       "2020-05-15  159.834000  "
      ]
     },
     "execution_count": 59,
     "metadata": {},
     "output_type": "execute_result"
    }
   ],
   "source": [
    "df=TSLA\n",
    "df.head()"
   ]
  },
  {
   "cell_type": "code",
   "execution_count": 60,
   "id": "28759a7d",
   "metadata": {},
   "outputs": [
    {
     "data": {
      "text/html": [
       "<div>\n",
       "<style scoped>\n",
       "    .dataframe tbody tr th:only-of-type {\n",
       "        vertical-align: middle;\n",
       "    }\n",
       "\n",
       "    .dataframe tbody tr th {\n",
       "        vertical-align: top;\n",
       "    }\n",
       "\n",
       "    .dataframe thead th {\n",
       "        text-align: right;\n",
       "    }\n",
       "</style>\n",
       "<table border=\"1\" class=\"dataframe\">\n",
       "  <thead>\n",
       "    <tr style=\"text-align: right;\">\n",
       "      <th></th>\n",
       "      <th>Adj Close</th>\n",
       "      <th>Volume</th>\n",
       "      <th>HL_PCT</th>\n",
       "      <th>PCT_change</th>\n",
       "    </tr>\n",
       "    <tr>\n",
       "      <th>Date</th>\n",
       "      <th></th>\n",
       "      <th></th>\n",
       "      <th></th>\n",
       "      <th></th>\n",
       "    </tr>\n",
       "  </thead>\n",
       "  <tbody>\n",
       "    <tr>\n",
       "      <th>2021-05-03</th>\n",
       "      <td>684.900024</td>\n",
       "      <td>27043100.0</td>\n",
       "      <td>3.723171</td>\n",
       "      <td>-2.685417</td>\n",
       "    </tr>\n",
       "    <tr>\n",
       "      <th>2021-05-04</th>\n",
       "      <td>673.599976</td>\n",
       "      <td>29739300.0</td>\n",
       "      <td>3.822744</td>\n",
       "      <td>-0.786524</td>\n",
       "    </tr>\n",
       "    <tr>\n",
       "      <th>2021-05-05</th>\n",
       "      <td>670.940002</td>\n",
       "      <td>21901900.0</td>\n",
       "      <td>2.676836</td>\n",
       "      <td>-1.485918</td>\n",
       "    </tr>\n",
       "    <tr>\n",
       "      <th>2021-05-06</th>\n",
       "      <td>663.539978</td>\n",
       "      <td>27784600.0</td>\n",
       "      <td>4.674928</td>\n",
       "      <td>-2.529530</td>\n",
       "    </tr>\n",
       "    <tr>\n",
       "      <th>2021-05-07</th>\n",
       "      <td>672.369995</td>\n",
       "      <td>23422100.0</td>\n",
       "      <td>4.429113</td>\n",
       "      <td>0.986784</td>\n",
       "    </tr>\n",
       "  </tbody>\n",
       "</table>\n",
       "</div>"
      ],
      "text/plain": [
       "             Adj Close      Volume    HL_PCT  PCT_change\n",
       "Date                                                    \n",
       "2021-05-03  684.900024  27043100.0  3.723171   -2.685417\n",
       "2021-05-04  673.599976  29739300.0  3.822744   -0.786524\n",
       "2021-05-05  670.940002  21901900.0  2.676836   -1.485918\n",
       "2021-05-06  663.539978  27784600.0  4.674928   -2.529530\n",
       "2021-05-07  672.369995  23422100.0  4.429113    0.986784"
      ]
     },
     "execution_count": 60,
     "metadata": {},
     "output_type": "execute_result"
    }
   ],
   "source": [
    "dfreg = df.loc[:,['Adj Close','Volume']]\n",
    "dfreg['HL_PCT'] = (df['High'] - df['Low']) / df['Close'] * 100.0\n",
    "dfreg['PCT_change'] = (df['Close'] - df['Open']) / df['Open'] * 100.0\n",
    "dfreg.tail()"
   ]
  },
  {
   "cell_type": "code",
   "execution_count": 61,
   "id": "f7040a99",
   "metadata": {},
   "outputs": [],
   "source": [
    "import math\n",
    "from sklearn import preprocessing\n",
    "\n",
    "# Drop missing value\n",
    "dfreg.fillna(value=-99999, inplace=True)\n",
    "# We want to separate 1 percent of the data to forecast\n",
    "forecast_out = int(math.ceil(0.01 * len(dfreg)))\n",
    "# Separating the label here, we want to predict the AdjClose\n",
    "forecast_col = 'Adj Close'\n",
    "dfreg['label'] = dfreg[forecast_col].shift(-forecast_out)\n",
    "X = np.array(dfreg.drop(['label'], 1))\n",
    "# Scale the X so that everyone can have the same distribution for linear regression\n",
    "X = preprocessing.scale(X)\n",
    "# Finally We want to find Data Series of late X and early X (train) for model generation and evaluation\n",
    "X_lately = X[-forecast_out:]\n",
    "X = X[:-forecast_out]\n",
    "# Separate label and identify it as y\n",
    "y = np.array(dfreg['label'])\n",
    "y = y[:-forecast_out]\n",
    "y_lately = y[-forecast_out:]"
   ]
  },
  {
   "cell_type": "code",
   "execution_count": 62,
   "id": "7e9fec24",
   "metadata": {},
   "outputs": [
    {
     "data": {
      "text/plain": [
       "LinearRegression(n_jobs=-1)"
      ]
     },
     "execution_count": 62,
     "metadata": {},
     "output_type": "execute_result"
    }
   ],
   "source": [
    "X_train = X\n",
    "y_train = y\n",
    "\n",
    "# 1. Linear regression \n",
    "clfreg = LinearRegression(n_jobs=-1)\n",
    "clfreg.fit(X_train, y_train)"
   ]
  },
  {
   "cell_type": "code",
   "execution_count": 63,
   "id": "cccc6456",
   "metadata": {},
   "outputs": [
    {
     "name": "stdout",
     "output_type": "stream",
     "text": [
      "confidencereg :  0.37186864580340695\n"
     ]
    }
   ],
   "source": [
    "X_test = X_lately\n",
    "y_test = y_lately\n",
    "\n",
    "confidence_reg = clfreg.score(X_test, y_test)\n",
    "\n",
    "print(\"confidencereg : \",confidence_reg)"
   ]
  },
  {
   "cell_type": "code",
   "execution_count": 64,
   "id": "fb49d8a0",
   "metadata": {},
   "outputs": [],
   "source": [
    "dfreg_lr = dfreg.copy()\n",
    "dfreg_lasso = dfreg.copy()\n",
    "dfreg_ridge = dfreg.copy()\n",
    "dfreg_br = dfreg.copy()\n",
    "\n",
    "noOfDaysData = 100"
   ]
  },
  {
   "cell_type": "code",
   "execution_count": 65,
   "id": "04dfe02c",
   "metadata": {},
   "outputs": [
    {
     "name": "stdout",
     "output_type": "stream",
     "text": [
      "[674.39487383 667.09414983 674.28059994]\n"
     ]
    }
   ],
   "source": [
    "forecast_set_linear_regression = clfreg.predict(X_lately)\n",
    "dfreg_lr['Forecast_linear_regression'] =  np.nan\n",
    "print(forecast_set_linear_regression)"
   ]
  },
  {
   "cell_type": "code",
   "execution_count": 66,
   "id": "05a442ea",
   "metadata": {},
   "outputs": [
    {
     "data": {
      "image/png": "[encoded data removed]",
      "text/plain": [
       "<Figure size 432x288 with 1 Axes>"
      ]
     },
     "metadata": {
      "needs_background": "light"
     },
     "output_type": "display_data"
    }
   ],
   "source": [
    "last_date = dfreg_lr.iloc[-1].name\n",
    "last_unix = last_date\n",
    "next_unix = last_unix + datetime.timedelta(days=1)\n",
    "\n",
    "for i in forecast_set_linear_regression:\n",
    "    next_date = next_unix\n",
    "    next_unix += datetime.timedelta(days=1)\n",
    "    dfreg_lr.loc[next_date] = [np.nan for _ in range(len(dfreg_lr.columns)-1)]+[i]\n",
    "dfreg_lr['Adj Close'].tail(noOfDaysData).plot()\n",
    "dfreg_lr['Forecast_linear_regression'].tail(noOfDaysData).plot()\n",
    "plt.legend(loc=4)\n",
    "plt.xlabel('Date')\n",
    "plt.ylabel('Price')\n",
    "plt.show()"
   ]
  },
  {
   "cell_type": "code",
   "execution_count": null,
   "id": "3fbccb62",
   "metadata": {},
   "outputs": [],
   "source": []
  }
 ],
 "metadata": {
  "kernelspec": {
   "display_name": "Python 3",
   "language": "python",
   "name": "python3"
  },
  "language_info": {
   "codemirror_mode": {
    "name": "ipython",
    "version": 3
   },
   "file_extension": ".py",
   "mimetype": "text/x-python",
   "name": "python",
   "nbconvert_exporter": "python",
   "pygments_lexer": "ipython3",
   "version": "3.8.8"
  }
 },
 "nbformat": 4,
 "nbformat_minor": 5
}
