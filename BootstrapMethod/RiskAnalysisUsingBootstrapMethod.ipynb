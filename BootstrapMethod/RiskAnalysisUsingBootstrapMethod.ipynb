{
 "cells": [
  {
   "cell_type": "code",
   "execution_count": 31,
   "metadata": {},
   "outputs": [],
   "source": [
    "import pandas as pd\n",
    "from pandas import Series,DataFrame\n",
    "import numpy as np\n",
    "import matplotlib.pyplot as plt\n",
    "import seaborn as sns\n",
    "sns.set_style('whitegrid')\n",
    "%matplotlib inline\n",
    "pd.core.common.is_list_like = pd.api.types.is_list_like\n",
    "import pandas_datareader as web\n",
    "from datetime import datetime\n",
    "from __future__ import division"
   ]
  },
  {
   "cell_type": "code",
   "execution_count": 32,
   "metadata": {},
   "outputs": [],
   "source": [
    "AAPL = pd.read_csv('AAPL.csv')\n",
    "AMZN =  pd.read_csv('AMZN.csv')\n",
    "FB = pd.read_csv('FB.csv')\n",
    "GOOG =  pd.read_csv('GOOG.csv')\n",
    "NFLX = pd.read_csv('NFLX.csv')\n",
    "TSLA = pd.read_csv('TSLA.csv')"
   ]
  },
  {
   "cell_type": "code",
   "execution_count": 33,
   "metadata": {},
   "outputs": [
    {
     "data": {
      "text/html": [
       "<div>\n",
       "<style scoped>\n",
       "    .dataframe tbody tr th:only-of-type {\n",
       "        vertical-align: middle;\n",
       "    }\n",
       "\n",
       "    .dataframe tbody tr th {\n",
       "        vertical-align: top;\n",
       "    }\n",
       "\n",
       "    .dataframe thead th {\n",
       "        text-align: right;\n",
       "    }\n",
       "</style>\n",
       "<table border=\"1\" class=\"dataframe\">\n",
       "  <thead>\n",
       "    <tr style=\"text-align: right;\">\n",
       "      <th></th>\n",
       "      <th>AAPL_close</th>\n",
       "      <th>GOOG_close</th>\n",
       "      <th>NFLX_close</th>\n",
       "      <th>AMZN_close</th>\n",
       "      <th>FB_close</th>\n",
       "      <th>TSLA_close</th>\n",
       "    </tr>\n",
       "  </thead>\n",
       "  <tbody>\n",
       "    <tr>\n",
       "      <th>0</th>\n",
       "      <td>61.380001</td>\n",
       "      <td>1102.489990</td>\n",
       "      <td>342.390015</td>\n",
       "      <td>1885.839966</td>\n",
       "      <td>1885.839966</td>\n",
       "      <td>1885.839966</td>\n",
       "    </tr>\n",
       "    <tr>\n",
       "      <th>1</th>\n",
       "      <td>64.610001</td>\n",
       "      <td>1161.750000</td>\n",
       "      <td>362.989990</td>\n",
       "      <td>1955.489990</td>\n",
       "      <td>1955.489990</td>\n",
       "      <td>1955.489990</td>\n",
       "    </tr>\n",
       "    <tr>\n",
       "      <th>2</th>\n",
       "      <td>61.935001</td>\n",
       "      <td>1110.709961</td>\n",
       "      <td>357.119995</td>\n",
       "      <td>1900.099976</td>\n",
       "      <td>1900.099976</td>\n",
       "      <td>1900.099976</td>\n",
       "    </tr>\n",
       "    <tr>\n",
       "      <th>3</th>\n",
       "      <td>63.702499</td>\n",
       "      <td>1146.819946</td>\n",
       "      <td>370.959991</td>\n",
       "      <td>1963.949951</td>\n",
       "      <td>1963.949951</td>\n",
       "      <td>1963.949951</td>\n",
       "    </tr>\n",
       "    <tr>\n",
       "      <th>4</th>\n",
       "      <td>63.572498</td>\n",
       "      <td>1162.810059</td>\n",
       "      <td>375.500000</td>\n",
       "      <td>1949.719971</td>\n",
       "      <td>1949.719971</td>\n",
       "      <td>1949.719971</td>\n",
       "    </tr>\n",
       "  </tbody>\n",
       "</table>\n",
       "</div>"
      ],
      "text/plain": [
       "   AAPL_close   GOOG_close  NFLX_close   AMZN_close     FB_close   TSLA_close\n",
       "0   61.380001  1102.489990  342.390015  1885.839966  1885.839966  1885.839966\n",
       "1   64.610001  1161.750000  362.989990  1955.489990  1955.489990  1955.489990\n",
       "2   61.935001  1110.709961  357.119995  1900.099976  1900.099976  1900.099976\n",
       "3   63.702499  1146.819946  370.959991  1963.949951  1963.949951  1963.949951\n",
       "4   63.572498  1162.810059  375.500000  1949.719971  1949.719971  1949.719971"
      ]
     },
     "execution_count": 33,
     "metadata": {},
     "output_type": "execute_result"
    }
   ],
   "source": [
    "#dataframe with all close cols for each df\n",
    "closing_df1 = pd.DataFrame(AAPL['Close'])\n",
    "close1  = closing_df1.rename(columns={\"Close\": \"AAPL_close\"})\n",
    "\n",
    "closing_df2 = pd.DataFrame(GOOG['Close'])\n",
    "close2  = closing_df2.rename(columns={\"Close\": \"GOOG_close\"})\n",
    "\n",
    "closing_df3 = pd.DataFrame(NFLX['Close'])\n",
    "close3  = closing_df3.rename(columns={\"Close\": \"NFLX_close\"})\n",
    "\n",
    "closing_df4 = pd.DataFrame(AMZN['Close'])\n",
    "close4  = closing_df4.rename(columns={\"Close\": \"AMZN_close\"})\n",
    "closing_df5 = pd.DataFrame(FB['Close'])\n",
    "close5  = closing_df4.rename(columns={\"Close\": \"FB_close\"})\n",
    "closing_df6 = pd.DataFrame(TSLA['Close'])\n",
    "close6 = closing_df4.rename(columns={\"Close\": \"TSLA_close\"})\n",
    "\n",
    "closing_df = pd.concat([close1, close2, close3, close4,close5 ,close6], axis=1)\n",
    "closing_df.head()"
   ]
  },
  {
   "cell_type": "code",
   "execution_count": 34,
   "metadata": {},
   "outputs": [],
   "source": [
    "tech_returns = closing_df.pct_change()"
   ]
  },
  {
   "cell_type": "code",
   "execution_count": 35,
   "metadata": {},
   "outputs": [
    {
     "data": {
      "image/png": "[encoded data removed]",
      "text/plain": [
       "<Figure size 432x288 with 1 Axes>"
      ]
     },
     "metadata": {
      "needs_background": "light"
     },
     "output_type": "display_data"
    }
   ],
   "source": [
    "#comparing the expected return with the standard deviation of the daily returns.\n",
    "rets = tech_returns.dropna()\n",
    "area = np.pi*20\n",
    "plt.scatter(rets.mean(), rets.std(),alpha = 0.5,s =area)\n",
    "plt.xlabel('Expected returns')\n",
    "plt.ylabel('Risk')\n",
    "plt.ylim([0.01,0.050])\n",
    "plt.xlim([-0.003,0.010])\n",
    "for label, x, y in zip(rets.columns, rets.mean(), rets.std()):\n",
    "    plt.annotate(\n",
    "        label, \n",
    "        xy = (x, y), xytext = (50, 50),\n",
    "        textcoords = 'offset points', ha = 'right', va = 'bottom',\n",
    "        arrowprops = dict(arrowstyle = '-', connectionstyle = 'arc3,rad=-0.3',color='black'))"
   ]
  },
  {
   "cell_type": "code",
   "execution_count": 36,
   "metadata": {},
   "outputs": [],
   "source": [
    "AAPL['Daily Return'] = AAPL['Close'].pct_change()\n",
    "AMZN['Daily Return'] = AMZN['Close'].pct_change()\n",
    "FB['Daily Return'] = FB['Close'].pct_change()\n",
    "GOOG['Daily Return'] = GOOG['Close'].pct_change()\n",
    "NFLX['Daily Return'] = NFLX['Close'].pct_change()\n",
    "TSLA['Daily Return'] = TSLA['Close'].pct_change()"
   ]
  },
  {
   "cell_type": "markdown",
   "metadata": {},
   "source": [
    "#### DEFINING RISK PARAMETERS:\n",
    "We can treat value at risk as the amount of money we could\n",
    "expect to lose (aka putting at risk) for a given confidence interval."
   ]
  },
  {
   "cell_type": "markdown",
   "metadata": {},
   "source": [
    "#### Value at risk using bootstrap method\n",
    "\n",
    "For this method we will calculate the empirical quantiles from a histogram of daily returns."
   ]
  },
  {
   "cell_type": "code",
   "execution_count": 37,
   "metadata": {},
   "outputs": [],
   "source": [
    "import warnings\n",
    "warnings.filterwarnings('ignore')"
   ]
  },
  {
   "cell_type": "code",
   "execution_count": 38,
   "metadata": {},
   "outputs": [
    {
     "data": {
      "image/png": "[encoded data removed]",
      "text/plain": [
       "<Figure size 432x288 with 1 Axes>"
      ]
     },
     "metadata": {
      "needs_background": "light"
     },
     "output_type": "display_data"
    }
   ],
   "source": [
    "sns.distplot(AAPL['Daily Return'].dropna(), bins=100)\n",
    "plt.show()"
   ]
  },
  {
   "cell_type": "code",
   "execution_count": 39,
   "metadata": {},
   "outputs": [
    {
     "data": {
      "text/html": [
       "<div>\n",
       "<style scoped>\n",
       "    .dataframe tbody tr th:only-of-type {\n",
       "        vertical-align: middle;\n",
       "    }\n",
       "\n",
       "    .dataframe tbody tr th {\n",
       "        vertical-align: top;\n",
       "    }\n",
       "\n",
       "    .dataframe thead th {\n",
       "        text-align: right;\n",
       "    }\n",
       "</style>\n",
       "<table border=\"1\" class=\"dataframe\">\n",
       "  <thead>\n",
       "    <tr style=\"text-align: right;\">\n",
       "      <th></th>\n",
       "      <th>AAPL_close</th>\n",
       "      <th>GOOG_close</th>\n",
       "      <th>NFLX_close</th>\n",
       "      <th>AMZN_close</th>\n",
       "      <th>FB_close</th>\n",
       "      <th>TSLA_close</th>\n",
       "    </tr>\n",
       "  </thead>\n",
       "  <tbody>\n",
       "    <tr>\n",
       "      <th>1</th>\n",
       "      <td>0.052623</td>\n",
       "      <td>0.053751</td>\n",
       "      <td>0.060165</td>\n",
       "      <td>0.036933</td>\n",
       "      <td>0.036933</td>\n",
       "      <td>0.036933</td>\n",
       "    </tr>\n",
       "    <tr>\n",
       "      <th>2</th>\n",
       "      <td>-0.041402</td>\n",
       "      <td>-0.043934</td>\n",
       "      <td>-0.016171</td>\n",
       "      <td>-0.028325</td>\n",
       "      <td>-0.028325</td>\n",
       "      <td>-0.028325</td>\n",
       "    </tr>\n",
       "    <tr>\n",
       "      <th>3</th>\n",
       "      <td>0.028538</td>\n",
       "      <td>0.032511</td>\n",
       "      <td>0.038754</td>\n",
       "      <td>0.033603</td>\n",
       "      <td>0.033603</td>\n",
       "      <td>0.033603</td>\n",
       "    </tr>\n",
       "    <tr>\n",
       "      <th>4</th>\n",
       "      <td>-0.002041</td>\n",
       "      <td>0.013943</td>\n",
       "      <td>0.012239</td>\n",
       "      <td>-0.007246</td>\n",
       "      <td>-0.007246</td>\n",
       "      <td>-0.007246</td>\n",
       "    </tr>\n",
       "    <tr>\n",
       "      <th>5</th>\n",
       "      <td>-0.052617</td>\n",
       "      <td>-0.049183</td>\n",
       "      <td>-0.030413</td>\n",
       "      <td>-0.021552</td>\n",
       "      <td>-0.021552</td>\n",
       "      <td>-0.021552</td>\n",
       "    </tr>\n",
       "  </tbody>\n",
       "</table>\n",
       "</div>"
      ],
      "text/plain": [
       "   AAPL_close  GOOG_close  NFLX_close  AMZN_close  FB_close  TSLA_close\n",
       "1    0.052623    0.053751    0.060165    0.036933  0.036933    0.036933\n",
       "2   -0.041402   -0.043934   -0.016171   -0.028325 -0.028325   -0.028325\n",
       "3    0.028538    0.032511    0.038754    0.033603  0.033603    0.033603\n",
       "4   -0.002041    0.013943    0.012239   -0.007246 -0.007246   -0.007246\n",
       "5   -0.052617   -0.049183   -0.030413   -0.021552 -0.021552   -0.021552"
      ]
     },
     "execution_count": 39,
     "metadata": {},
     "output_type": "execute_result"
    }
   ],
   "source": [
    "rets.head()"
   ]
  },
  {
   "cell_type": "code",
   "execution_count": 40,
   "metadata": {},
   "outputs": [
    {
     "name": "stdout",
     "output_type": "stream",
     "text": [
      "The 0.05 empirical quantile of daily returns is at -0.03434386527050781\n"
     ]
    }
   ],
   "source": [
    "emp = rets['AAPL_close'].quantile(0.05)\n",
    "print(\"The 0.05 empirical quantile of daily returns is at\", emp)"
   ]
  },
  {
   "cell_type": "markdown",
   "metadata": {},
   "source": [
    "#### CONCLUSION:\n",
    "The 0.05 empirical quantile of daily returns is at -0.034. That means that with 95% confidence, the worst daily loss will not exceed 3.4%. If someone has a 1 million dollar investment, our one-day 5% VaR is 0.034 * 1,000,000 = $34,000."
   ]
  },
  {
   "cell_type": "code",
   "execution_count": 41,
   "metadata": {},
   "outputs": [
    {
     "data": {
      "image/png": "[encoded data removed]",
      "text/plain": [
       "<Figure size 432x288 with 1 Axes>"
      ]
     },
     "metadata": {
      "needs_background": "light"
     },
     "output_type": "display_data"
    }
   ],
   "source": [
    "sns.distplot(AMZN['Daily Return'].dropna(), bins=100)\n",
    "plt.show()"
   ]
  },
  {
   "cell_type": "code",
   "execution_count": 42,
   "metadata": {},
   "outputs": [
    {
     "name": "stdout",
     "output_type": "stream",
     "text": [
      "The 0.05 empirical quantile of daily returns is at -0.03051012620655047\n"
     ]
    }
   ],
   "source": [
    "emp = rets['AMZN_close'].quantile(0.05)\n",
    "print(\"The 0.05 empirical quantile of daily returns is at\", emp)"
   ]
  },
  {
   "cell_type": "markdown",
   "metadata": {},
   "source": [
    "#### CONCLUSION\n",
    "The 0.05 empirical quantile of daily returns is at -0.030. That means that with 95% confidence, the worst daily loss will not exceed 3.0%. If someone has a 1 million dollar investment, our one-day 5% VaR is 0.030 * 1,000,000 = $30,000."
   ]
  },
  {
   "cell_type": "code",
   "execution_count": 43,
   "metadata": {},
   "outputs": [
    {
     "data": {
      "image/png": "[encoded data removed]",
      "text/plain": [
       "<Figure size 432x288 with 1 Axes>"
      ]
     },
     "metadata": {
      "needs_background": "light"
     },
     "output_type": "display_data"
    }
   ],
   "source": [
    "sns.distplot(GOOG['Daily Return'].dropna(), bins=100)\n",
    "plt.show()"
   ]
  },
  {
   "cell_type": "code",
   "execution_count": 44,
   "metadata": {},
   "outputs": [
    {
     "name": "stdout",
     "output_type": "stream",
     "text": [
      "The 0.05 empirical quantile of daily returns is at -0.03237290778739699\n"
     ]
    }
   ],
   "source": [
    "emp = rets['GOOG_close'].quantile(0.05)\n",
    "print(\"The 0.05 empirical quantile of daily returns is at\", emp)"
   ]
  },
  {
   "cell_type": "markdown",
   "metadata": {},
   "source": [
    "#### CONCLUSION\n",
    "The 0.05 empirical quantile of daily returns is at -0.032. That means that with 95% confidence, the worst daily loss will not exceed 3.0%. If someone has a 1 million dollar investment, our one-day 5% VaR is 0.032 * 1,000,000 = $32,000."
   ]
  },
  {
   "cell_type": "code",
   "execution_count": 45,
   "metadata": {},
   "outputs": [
    {
     "data": {
      "image/png": "[encoded data removed]",
      "text/plain": [
       "<Figure size 432x288 with 1 Axes>"
      ]
     },
     "metadata": {
      "needs_background": "light"
     },
     "output_type": "display_data"
    }
   ],
   "source": [
    "sns.distplot(FB['Daily Return'].dropna(), bins=100)\n",
    "plt.show()"
   ]
  },
  {
   "cell_type": "code",
   "execution_count": 46,
   "metadata": {},
   "outputs": [
    {
     "name": "stdout",
     "output_type": "stream",
     "text": [
      "The 0.05 empirical quantile of daily returns is at -0.03051012620655047\n"
     ]
    }
   ],
   "source": [
    "emp = rets['FB_close'].quantile(0.05)\n",
    "print(\"The 0.05 empirical quantile of daily returns is at\", emp)"
   ]
  },
  {
   "cell_type": "markdown",
   "metadata": {},
   "source": [
    "#### CONCLUSION\n",
    "The 0.05 empirical quantile of daily returns is at -0.030. That means that with 95% confidence, the worst daily loss will not exceed 3.0%. If someone has a 1 million dollar investment, our one-day 5% VaR is 0.030 * 1,000,000 = $30,000."
   ]
  },
  {
   "cell_type": "code",
   "execution_count": 47,
   "metadata": {},
   "outputs": [
    {
     "data": {
      "image/png": "[encoded data removed]",
      "text/plain": [
       "<Figure size 432x288 with 1 Axes>"
      ]
     },
     "metadata": {
      "needs_background": "light"
     },
     "output_type": "display_data"
    }
   ],
   "source": [
    "sns.distplot(TSLA['Daily Return'].dropna(), bins=100)\n",
    "plt.show()"
   ]
  },
  {
   "cell_type": "code",
   "execution_count": 48,
   "metadata": {},
   "outputs": [
    {
     "name": "stdout",
     "output_type": "stream",
     "text": [
      "The 0.05 empirical quantile of daily returns is at -0.03051012620655047\n"
     ]
    }
   ],
   "source": [
    "emp = rets['TSLA_close'].quantile(0.05)\n",
    "print(\"The 0.05 empirical quantile of daily returns is at\", emp)"
   ]
  },
  {
   "cell_type": "markdown",
   "metadata": {},
   "source": [
    "#### CONCLUSION\n",
    "The 0.05 empirical quantile of daily returns is at -0.030. That means that with 95% confidence, the worst daily loss will not exceed 3.0%. If someone has a 1 million dollar investment, our one-day 5% VaR is 0.030 * 1,000,000 = $30,000."
   ]
  },
  {
   "cell_type": "code",
   "execution_count": 49,
   "metadata": {},
   "outputs": [
    {
     "data": {
      "image/png": "[encoded data removed]",
      "text/plain": [
       "<Figure size 432x288 with 1 Axes>"
      ]
     },
     "metadata": {
      "needs_background": "light"
     },
     "output_type": "display_data"
    }
   ],
   "source": [
    "sns.distplot(NFLX['Daily Return'].dropna(), bins=100)\n",
    "plt.show()"
   ]
  },
  {
   "cell_type": "code",
   "execution_count": 50,
   "metadata": {},
   "outputs": [
    {
     "name": "stdout",
     "output_type": "stream",
     "text": [
      "The 0.05 empirical quantile of daily returns is at -0.04033702925763355\n"
     ]
    }
   ],
   "source": [
    "emp = rets['NFLX_close'].quantile(0.05)\n",
    "print(\"The 0.05 empirical quantile of daily returns is at\", emp)"
   ]
  },
  {
   "cell_type": "markdown",
   "metadata": {},
   "source": [
    "#### CONCLUSION\n",
    "The 0.05 empirical quantile of daily returns is at -0.040. That means that with 95% confidence, the worst daily loss will not exceed 4.0%. If someone has a 1 million dollar investment, our one-day 5% VaR is 0.040 * 1,000,000 = $40,000."
   ]
  }
 ],
 "metadata": {
  "kernelspec": {
   "display_name": "Python 3",
   "language": "python",
   "name": "python3"
  },
  "language_info": {
   "codemirror_mode": {
    "name": "ipython",
    "version": 3
   },
   "file_extension": ".py",
   "mimetype": "text/x-python",
   "name": "python",
   "nbconvert_exporter": "python",
   "pygments_lexer": "ipython3",
   "version": "3.8.5"
  }
 },
 "nbformat": 4,
 "nbformat_minor": 4
}
